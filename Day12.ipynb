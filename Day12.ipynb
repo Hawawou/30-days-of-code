{
  "nbformat": 4,
  "nbformat_minor": 0,
  "metadata": {
    "colab": {
      "provenance": [],
      "authorship_tag": "ABX9TyPNLzgZxXMp/fsdKksweltM",
      "include_colab_link": true
    },
    "kernelspec": {
      "name": "python3",
      "display_name": "Python 3"
    },
    "language_info": {
      "name": "python"
    }
  },
  "cells": [
    {
      "cell_type": "markdown",
      "metadata": {
        "id": "view-in-github",
        "colab_type": "text"
      },
      "source": [
        "<a href=\"https://colab.research.google.com/github/Hawawou/30-days-of-code/blob/main/Day12.ipynb\" target=\"_parent\"><img src=\"https://colab.research.google.com/assets/colab-badge.svg\" alt=\"Open In Colab\"/></a>"
      ]
    },
    {
      "cell_type": "markdown",
      "source": [
        "Data types"
      ],
      "metadata": {
        "id": "-PVVWmiQqwtl"
      }
    },
    {
      "cell_type": "code",
      "execution_count": null,
      "metadata": {
        "colab": {
          "base_uri": "https://localhost:8080/"
        },
        "id": "JrL3-jscqjZh",
        "outputId": "c1916e15-02e5-4165-bfbd-76c3b77683c0"
      },
      "outputs": [
        {
          "output_type": "stream",
          "name": "stdout",
          "text": [
            "20\n"
          ]
        }
      ],
      "source": [
        "# integers\n",
        "print(20)"
      ]
    },
    {
      "cell_type": "code",
      "source": [
        "print(0o10)"
      ],
      "metadata": {
        "colab": {
          "base_uri": "https://localhost:8080/"
        },
        "id": "vmIoopjhq1xD",
        "outputId": "78e140c2-5949-4f78-ed1a-5031cdb16dce"
      },
      "execution_count": null,
      "outputs": [
        {
          "output_type": "stream",
          "name": "stdout",
          "text": [
            "8\n"
          ]
        }
      ]
    },
    {
      "cell_type": "markdown",
      "source": [
        "octal"
      ],
      "metadata": {
        "id": "CXv6EZeWrBpV"
      }
    },
    {
      "cell_type": "code",
      "source": [
        "print(0b10)"
      ],
      "metadata": {
        "colab": {
          "base_uri": "https://localhost:8080/"
        },
        "id": "V3cY93u8q85F",
        "outputId": "9bf21ec3-2af9-49e1-cdbe-3744aa38cfde"
      },
      "execution_count": null,
      "outputs": [
        {
          "output_type": "stream",
          "name": "stdout",
          "text": [
            "2\n"
          ]
        }
      ]
    },
    {
      "cell_type": "markdown",
      "source": [
        "binary"
      ],
      "metadata": {
        "id": "ihtFU717rJMx"
      }
    },
    {
      "cell_type": "code",
      "source": [
        "# hexadecimal\n",
        "print(0x10)"
      ],
      "metadata": {
        "colab": {
          "base_uri": "https://localhost:8080/"
        },
        "id": "cHCAc9psrGuK",
        "outputId": "66e9d8c2-2d9b-4dc2-d371-641e8f6e1cc2"
      },
      "execution_count": null,
      "outputs": [
        {
          "output_type": "stream",
          "name": "stdout",
          "text": [
            "16\n"
          ]
        }
      ]
    },
    {
      "cell_type": "code",
      "source": [
        "type(0x10)"
      ],
      "metadata": {
        "colab": {
          "base_uri": "https://localhost:8080/"
        },
        "id": "30BrSoDPrPPK",
        "outputId": "68cbca2b-b334-4468-a9fb-fc0fc33551da"
      },
      "execution_count": null,
      "outputs": [
        {
          "output_type": "execute_result",
          "data": {
            "text/plain": [
              "int"
            ]
          },
          "metadata": {},
          "execution_count": 6
        }
      ]
    },
    {
      "cell_type": "code",
      "source": [
        "# floating point\n",
        "type(4.2)"
      ],
      "metadata": {
        "colab": {
          "base_uri": "https://localhost:8080/"
        },
        "id": "IjGWSONprXJ0",
        "outputId": "52fcc39e-6bb2-4a58-fc4b-379c2e4c60fa"
      },
      "execution_count": null,
      "outputs": [
        {
          "output_type": "execute_result",
          "data": {
            "text/plain": [
              "float"
            ]
          },
          "metadata": {},
          "execution_count": 7
        }
      ]
    },
    {
      "cell_type": "code",
      "source": [
        ".4e7"
      ],
      "metadata": {
        "colab": {
          "base_uri": "https://localhost:8080/"
        },
        "id": "ag-BmBa2rgcM",
        "outputId": "e48121aa-794e-41c6-95fe-145662232e0d"
      },
      "execution_count": null,
      "outputs": [
        {
          "output_type": "execute_result",
          "data": {
            "text/plain": [
              "4000000.0"
            ]
          },
          "metadata": {},
          "execution_count": 8
        }
      ]
    },
    {
      "cell_type": "code",
      "source": [
        "4.2e-4"
      ],
      "metadata": {
        "colab": {
          "base_uri": "https://localhost:8080/"
        },
        "id": "E52TZ-IJrkBJ",
        "outputId": "183de628-0aef-4802-dcd2-4067f0834d73"
      },
      "execution_count": null,
      "outputs": [
        {
          "output_type": "execute_result",
          "data": {
            "text/plain": [
              "0.00042"
            ]
          },
          "metadata": {},
          "execution_count": 9
        }
      ]
    },
    {
      "cell_type": "markdown",
      "source": [
        "python float values are represented as 64 bit double precision values and the maximum value is ~1.8x10^308"
      ],
      "metadata": {
        "id": "6FulA72_rv2r"
      }
    },
    {
      "cell_type": "code",
      "source": [
        "1.8e308"
      ],
      "metadata": {
        "colab": {
          "base_uri": "https://localhost:8080/"
        },
        "id": "bjsDtEo6rm7K",
        "outputId": "c7979ac7-9b6f-4256-f013-2a4e82313c34"
      },
      "execution_count": null,
      "outputs": [
        {
          "output_type": "execute_result",
          "data": {
            "text/plain": [
              "inf"
            ]
          },
          "metadata": {},
          "execution_count": 10
        }
      ]
    },
    {
      "cell_type": "code",
      "source": [
        "1.79e308"
      ],
      "metadata": {
        "colab": {
          "base_uri": "https://localhost:8080/"
        },
        "id": "k_wVA-npsFXj",
        "outputId": "b13c895b-78ee-4b74-ab92-910294444d7a"
      },
      "execution_count": null,
      "outputs": [
        {
          "output_type": "execute_result",
          "data": {
            "text/plain": [
              "1.79e+308"
            ]
          },
          "metadata": {},
          "execution_count": 11
        }
      ]
    },
    {
      "cell_type": "code",
      "source": [
        "# Complex numbers\n",
        "a = 2+3j\n",
        "a"
      ],
      "metadata": {
        "colab": {
          "base_uri": "https://localhost:8080/"
        },
        "id": "jvPvj7a9sJnF",
        "outputId": "624bf652-e962-4357-abc1-48afd7b1285b"
      },
      "execution_count": null,
      "outputs": [
        {
          "output_type": "execute_result",
          "data": {
            "text/plain": [
              "(2+3j)"
            ]
          },
          "metadata": {},
          "execution_count": 13
        }
      ]
    },
    {
      "cell_type": "code",
      "source": [
        "type(a)"
      ],
      "metadata": {
        "colab": {
          "base_uri": "https://localhost:8080/"
        },
        "id": "NzAlXmRmsX4J",
        "outputId": "14cc06e2-8637-4024-b00a-b9214d590a18"
      },
      "execution_count": null,
      "outputs": [
        {
          "output_type": "execute_result",
          "data": {
            "text/plain": [
              "complex"
            ]
          },
          "metadata": {},
          "execution_count": 14
        }
      ]
    },
    {
      "cell_type": "code",
      "source": [
        "# Strings\n",
        "x = \"I am a string\"\n",
        "x"
      ],
      "metadata": {
        "colab": {
          "base_uri": "https://localhost:8080/",
          "height": 35
        },
        "id": "HsZLRYinscm-",
        "outputId": "e1db7cc8-2e0a-4ee0-b263-d15ad15af3fd"
      },
      "execution_count": null,
      "outputs": [
        {
          "output_type": "execute_result",
          "data": {
            "text/plain": [
              "'I am a string'"
            ],
            "application/vnd.google.colaboratory.intrinsic+json": {
              "type": "string"
            }
          },
          "metadata": {},
          "execution_count": 15
        }
      ]
    },
    {
      "cell_type": "code",
      "source": [
        "type(x)"
      ],
      "metadata": {
        "colab": {
          "base_uri": "https://localhost:8080/"
        },
        "id": "a1fROkJfskdn",
        "outputId": "7dea9eed-a806-495c-c470-d63e2ad0aefd"
      },
      "execution_count": null,
      "outputs": [
        {
          "output_type": "execute_result",
          "data": {
            "text/plain": [
              "str"
            ]
          },
          "metadata": {},
          "execution_count": 16
        }
      ]
    },
    {
      "cell_type": "code",
      "source": [
        "# escape sequences in strings\n",
        "print('this is a single quote (\\') ')"
      ],
      "metadata": {
        "id": "XdqWaSZMsl-n",
        "colab": {
          "base_uri": "https://localhost:8080/"
        },
        "outputId": "5dfbaf8d-55b5-45f0-ba61-95258afe0f09"
      },
      "execution_count": 2,
      "outputs": [
        {
          "output_type": "stream",
          "name": "stdout",
          "text": [
            "this is a single quote (') \n"
          ]
        }
      ]
    },
    {
      "cell_type": "code",
      "source": [
        "# tab character\n",
        "print('foo\\tbar')"
      ],
      "metadata": {
        "colab": {
          "base_uri": "https://localhost:8080/"
        },
        "id": "Y1qIrdtIXqw9",
        "outputId": "8e05aaf3-96bc-4a67-d52b-96167a167aa4"
      },
      "execution_count": 4,
      "outputs": [
        {
          "output_type": "stream",
          "name": "stdout",
          "text": [
            "foo\tbar\n"
          ]
        }
      ]
    },
    {
      "cell_type": "code",
      "source": [
        "print('\\u2192 \\N{rightwards arrow}')"
      ],
      "metadata": {
        "colab": {
          "base_uri": "https://localhost:8080/"
        },
        "id": "c0F8JHMQYDRs",
        "outputId": "366e1156-c297-4240-c10f-d14813d7f19c"
      },
      "execution_count": 6,
      "outputs": [
        {
          "output_type": "stream",
          "name": "stdout",
          "text": [
            "→ →\n"
          ]
        }
      ]
    },
    {
      "cell_type": "code",
      "source": [
        "# raw strings\n",
        "print('foo\\nbar')"
      ],
      "metadata": {
        "colab": {
          "base_uri": "https://localhost:8080/"
        },
        "id": "obT4c6TjYUYh",
        "outputId": "0800b9f4-c009-470b-f376-84d309f4d5d7"
      },
      "execution_count": 7,
      "outputs": [
        {
          "output_type": "stream",
          "name": "stdout",
          "text": [
            "foo\n",
            "bar\n"
          ]
        }
      ]
    },
    {
      "cell_type": "markdown",
      "source": [
        "specifies that the escape character is not translated"
      ],
      "metadata": {
        "id": "ZZdYlLVPYhUN"
      }
    },
    {
      "cell_type": "code",
      "source": [
        "print(r'foo\\nbar')"
      ],
      "metadata": {
        "colab": {
          "base_uri": "https://localhost:8080/"
        },
        "id": "53vzuSIiYruP",
        "outputId": "fce5db81-3db1-4d47-b22b-c75caf045c11"
      },
      "execution_count": 8,
      "outputs": [
        {
          "output_type": "stream",
          "name": "stdout",
          "text": [
            "foo\\nbar\n"
          ]
        }
      ]
    },
    {
      "cell_type": "code",
      "source": [
        "# triple quoted string\n",
        "print('''This string has a (') and a double (\") quote''')"
      ],
      "metadata": {
        "colab": {
          "base_uri": "https://localhost:8080/"
        },
        "id": "jT4alGJjYu-q",
        "outputId": "34593629-62b2-4f00-ce84-a1470d61ff3b"
      },
      "execution_count": 9,
      "outputs": [
        {
          "output_type": "stream",
          "name": "stdout",
          "text": [
            "This string has a (') and a double (\") quote\n"
          ]
        }
      ]
    },
    {
      "cell_type": "code",
      "source": [
        "# multiline strings\n",
        "print(\"\"\"This is a \n",
        "string that spans \n",
        "accross\n",
        "several lines\"\"\")"
      ],
      "metadata": {
        "colab": {
          "base_uri": "https://localhost:8080/"
        },
        "id": "b-QAqyRzZAhs",
        "outputId": "6e1fd252-963b-4fd6-f6b5-0fa60c6f2a3b"
      },
      "execution_count": 10,
      "outputs": [
        {
          "output_type": "stream",
          "name": "stdout",
          "text": [
            "This is a \n",
            "string that spans \n",
            "accross\n",
            "several lines\n"
          ]
        }
      ]
    },
    {
      "cell_type": "code",
      "source": [
        "# boolean type, context and truthiness\n",
        "type(True)"
      ],
      "metadata": {
        "colab": {
          "base_uri": "https://localhost:8080/"
        },
        "id": "5vBre6eOZLNL",
        "outputId": "5ffb489c-2bc7-486c-cb47-bd459b92cb3c"
      },
      "execution_count": 11,
      "outputs": [
        {
          "output_type": "execute_result",
          "data": {
            "text/plain": [
              "bool"
            ]
          },
          "metadata": {},
          "execution_count": 11
        }
      ]
    },
    {
      "cell_type": "code",
      "source": [],
      "metadata": {
        "id": "txDEKoa8ZRVX"
      },
      "execution_count": null,
      "outputs": []
    }
  ]
}