{
  "nbformat": 4,
  "nbformat_minor": 0,
  "metadata": {
    "colab": {
      "provenance": [],
      "authorship_tag": "ABX9TyNlBPr44oyuwi4l8grKWYUH",
      "include_colab_link": true
    },
    "kernelspec": {
      "name": "python3",
      "display_name": "Python 3"
    },
    "language_info": {
      "name": "python"
    }
  },
  "cells": [
    {
      "cell_type": "markdown",
      "metadata": {
        "id": "view-in-github",
        "colab_type": "text"
      },
      "source": [
        "<a href=\"https://colab.research.google.com/github/Hawawou/30-days-of-code/blob/main/Day3.ipynb\" target=\"_parent\"><img src=\"https://colab.research.google.com/assets/colab-badge.svg\" alt=\"Open In Colab\"/></a>"
      ]
    },
    {
      "cell_type": "code",
      "execution_count": 2,
      "metadata": {
        "colab": {
          "base_uri": "https://localhost:8080/"
        },
        "id": "hO_jbP_ghgaD",
        "outputId": "2892f4e3-e32f-434c-bff1-65f529e2c761"
      },
      "outputs": [
        {
          "output_type": "stream",
          "name": "stdout",
          "text": [
            "4\n"
          ]
        }
      ],
      "source": [
        "var1 = 2+2 \n",
        "print(var1)\n",
        "# integer"
      ]
    },
    {
      "cell_type": "markdown",
      "source": [
        "Addition of two integers"
      ],
      "metadata": {
        "id": "ACgwQNjikwWF"
      }
    },
    {
      "cell_type": "code",
      "source": [
        "var2 = 3+2/5\n",
        "var2\n",
        "# float"
      ],
      "metadata": {
        "colab": {
          "base_uri": "https://localhost:8080/"
        },
        "id": "cNWfejSkh6Wi",
        "outputId": "164bf983-ae76-4a51-de03-574734527a31"
      },
      "execution_count": 5,
      "outputs": [
        {
          "output_type": "execute_result",
          "data": {
            "text/plain": [
              "3.4"
            ]
          },
          "metadata": {},
          "execution_count": 5
        }
      ]
    },
    {
      "cell_type": "markdown",
      "source": [
        "addition on an integer and a fraction"
      ],
      "metadata": {
        "id": "Et63tnMlk1Ch"
      }
    },
    {
      "cell_type": "code",
      "source": [
        "var3 = 4*16\n",
        "var3\n",
        "# int"
      ],
      "metadata": {
        "colab": {
          "base_uri": "https://localhost:8080/"
        },
        "id": "PvsMHhmxiEgD",
        "outputId": "03bbc8f3-507a-46b8-fb68-00e3a4a46a8e"
      },
      "execution_count": 6,
      "outputs": [
        {
          "output_type": "execute_result",
          "data": {
            "text/plain": [
              "64"
            ]
          },
          "metadata": {},
          "execution_count": 6
        }
      ]
    },
    {
      "cell_type": "markdown",
      "source": [
        "Multiplication of two integers"
      ],
      "metadata": {
        "id": "jWSl98hTk6jw"
      }
    },
    {
      "cell_type": "code",
      "source": [
        "var4 = 4**6\n",
        "var4\n",
        "# int"
      ],
      "metadata": {
        "colab": {
          "base_uri": "https://localhost:8080/"
        },
        "id": "edIcL3ZriMa0",
        "outputId": "e8f7b7e1-43c0-47bb-de7d-03991dcb292c"
      },
      "execution_count": 7,
      "outputs": [
        {
          "output_type": "execute_result",
          "data": {
            "text/plain": [
              "4096"
            ]
          },
          "metadata": {},
          "execution_count": 7
        }
      ]
    },
    {
      "cell_type": "markdown",
      "source": [
        "Raising the number four to power 6"
      ],
      "metadata": {
        "id": "JV8teXyUk_pX"
      }
    },
    {
      "cell_type": "code",
      "source": [
        "var5 = \"Hello \" + \" \" + \"World\"\n",
        "var5\n",
        "# string"
      ],
      "metadata": {
        "colab": {
          "base_uri": "https://localhost:8080/",
          "height": 35
        },
        "id": "yG8nDoqxiUgo",
        "outputId": "8479b34b-55fe-4bd5-8179-8092934e5646"
      },
      "execution_count": 8,
      "outputs": [
        {
          "output_type": "execute_result",
          "data": {
            "text/plain": [
              "'Hello  World'"
            ],
            "application/vnd.google.colaboratory.intrinsic+json": {
              "type": "string"
            }
          },
          "metadata": {},
          "execution_count": 8
        }
      ]
    },
    {
      "cell_type": "markdown",
      "source": [
        "concatenation of strings"
      ],
      "metadata": {
        "id": "LWjZAebqlE91"
      }
    },
    {
      "cell_type": "code",
      "source": [
        "var6 = \"Hello world \" * 5\n",
        "var6\n",
        "# string"
      ],
      "metadata": {
        "colab": {
          "base_uri": "https://localhost:8080/",
          "height": 35
        },
        "id": "PUXTiC-Lif7R",
        "outputId": "d7188c0b-f988-4143-cbe2-44818a9736d0"
      },
      "execution_count": 14,
      "outputs": [
        {
          "output_type": "execute_result",
          "data": {
            "text/plain": [
              "'Hello world Hello world Hello world Hello world Hello world '"
            ],
            "application/vnd.google.colaboratory.intrinsic+json": {
              "type": "string"
            }
          },
          "metadata": {},
          "execution_count": 14
        }
      ]
    },
    {
      "cell_type": "markdown",
      "source": [],
      "metadata": {
        "id": "bPYlLOTHqqB1"
      }
    },
    {
      "cell_type": "code",
      "source": [],
      "metadata": {
        "id": "qMBE5VUlqsud"
      },
      "execution_count": null,
      "outputs": []
    },
    {
      "cell_type": "code",
      "source": [
        "var7 = 4 % 3\n",
        "var7\n",
        "# int"
      ],
      "metadata": {
        "colab": {
          "base_uri": "https://localhost:8080/"
        },
        "id": "v5ne0uVnitfV",
        "outputId": "23738d75-9696-4f24-b459-422d804167cd"
      },
      "execution_count": 11,
      "outputs": [
        {
          "output_type": "execute_result",
          "data": {
            "text/plain": [
              "1"
            ]
          },
          "metadata": {},
          "execution_count": 11
        }
      ]
    },
    {
      "cell_type": "markdown",
      "source": [
        "modulos of a number"
      ],
      "metadata": {
        "id": "-NQ92JkgnBC2"
      }
    },
    {
      "cell_type": "code",
      "source": [],
      "metadata": {
        "id": "gQI4Tu0SkaZv"
      },
      "execution_count": null,
      "outputs": []
    }
  ]
}