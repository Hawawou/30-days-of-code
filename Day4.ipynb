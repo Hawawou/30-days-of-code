{
  "nbformat": 4,
  "nbformat_minor": 0,
  "metadata": {
    "colab": {
      "provenance": [],
      "authorship_tag": "ABX9TyME+3HFRy1WLVWFRsI2u/e2",
      "include_colab_link": true
    },
    "kernelspec": {
      "name": "python3",
      "display_name": "Python 3"
    },
    "language_info": {
      "name": "python"
    }
  },
  "cells": [
    {
      "cell_type": "markdown",
      "metadata": {
        "id": "view-in-github",
        "colab_type": "text"
      },
      "source": [
        "<a href=\"https://colab.research.google.com/github/Hawawou/30-days-of-code/blob/main/Day4.ipynb\" target=\"_parent\"><img src=\"https://colab.research.google.com/assets/colab-badge.svg\" alt=\"Open In Colab\"/></a>"
      ]
    },
    {
      "cell_type": "code",
      "execution_count": null,
      "metadata": {
        "colab": {
          "base_uri": "https://localhost:8080/"
        },
        "id": "grCb6yliUVXQ",
        "outputId": "be8b840d-2b49-48f7-84d2-8daaf6e939cc"
      },
      "outputs": [
        {
          "output_type": "execute_result",
          "data": {
            "text/plain": [
              "['Hello',\n",
              " 1,\n",
              " 'world',\n",
              " 2,\n",
              " 0.1,\n",
              " 'data',\n",
              " 3,\n",
              " 'science',\n",
              " 4,\n",
              " 0.2,\n",
              " 0.3,\n",
              " 0.4,\n",
              " 0.5,\n",
              " 5,\n",
              " 'good']"
            ]
          },
          "metadata": {},
          "execution_count": 3
        }
      ],
      "source": [
        "list1 = [\"Hello\", 1, \"world\", 2, 0.1,\"data\", 3, \"science\", 4, 0.2, 0.3, 0.4, 0.5, 5, \"good\"]\n",
        "list1"
      ]
    },
    {
      "cell_type": "code",
      "source": [
        "list4 = [\"Good\", 20, \"day\"]"
      ],
      "metadata": {
        "id": "CGKhzD2nVPvM"
      },
      "execution_count": null,
      "outputs": []
    },
    {
      "cell_type": "code",
      "source": [
        "list5 = list1 + list4\n",
        "list5"
      ],
      "metadata": {
        "colab": {
          "base_uri": "https://localhost:8080/"
        },
        "id": "XsYX3sc8VodH",
        "outputId": "d85d1395-5204-4bd6-dc75-8577d52b137f"
      },
      "execution_count": null,
      "outputs": [
        {
          "output_type": "execute_result",
          "data": {
            "text/plain": [
              "['Hello',\n",
              " 1,\n",
              " 'world',\n",
              " 2,\n",
              " 0.1,\n",
              " 'data',\n",
              " 3,\n",
              " 'science',\n",
              " 4,\n",
              " 0.2,\n",
              " 0.3,\n",
              " 0.4,\n",
              " 0.5,\n",
              " 5,\n",
              " 'good',\n",
              " 'Good',\n",
              " 20,\n",
              " 'day']"
            ]
          },
          "metadata": {},
          "execution_count": 10
        }
      ]
    },
    {
      "cell_type": "code",
      "source": [
        "list2 = [5, 6, 7.0, \"eight\", \"nine\"]\n",
        "list3 = []\n",
        "for i in list2:\n",
        "  list3 = type(i)\n",
        "  print(list3)"
      ],
      "metadata": {
        "id": "DEd6bLZ0VxFh",
        "colab": {
          "base_uri": "https://localhost:8080/"
        },
        "outputId": "368d3e93-ea92-448b-8a90-86c91ccc988b"
      },
      "execution_count": 1,
      "outputs": [
        {
          "output_type": "stream",
          "name": "stdout",
          "text": [
            "<class 'int'>\n",
            "<class 'int'>\n",
            "<class 'float'>\n",
            "<class 'str'>\n",
            "<class 'str'>\n"
          ]
        }
      ]
    },
    {
      "cell_type": "code",
      "source": [],
      "metadata": {
        "id": "5d_ZBFy5Wo8n"
      },
      "execution_count": null,
      "outputs": []
    }
  ]
}