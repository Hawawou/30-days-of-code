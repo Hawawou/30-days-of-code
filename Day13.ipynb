{
  "nbformat": 4,
  "nbformat_minor": 0,
  "metadata": {
    "colab": {
      "provenance": [],
      "authorship_tag": "ABX9TyO5gF+85mIiGiIPHMfej68s",
      "include_colab_link": true
    },
    "kernelspec": {
      "name": "python3",
      "display_name": "Python 3"
    },
    "language_info": {
      "name": "python"
    }
  },
  "cells": [
    {
      "cell_type": "markdown",
      "metadata": {
        "id": "view-in-github",
        "colab_type": "text"
      },
      "source": [
        "<a href=\"https://colab.research.google.com/github/Hawawou/30-days-of-code/blob/main/Day13.ipynb\" target=\"_parent\"><img src=\"https://colab.research.google.com/assets/colab-badge.svg\" alt=\"Open In Colab\"/></a>"
      ]
    },
    {
      "cell_type": "markdown",
      "source": [
        "Map()"
      ],
      "metadata": {
        "id": "ZLj8M9oSaCsu"
      }
    },
    {
      "cell_type": "code",
      "execution_count": 2,
      "metadata": {
        "colab": {
          "base_uri": "https://localhost:8080/"
        },
        "id": "237KYb0DZ-9s",
        "outputId": "0ff25fcd-4e47-4250-b58c-2e00dd17a3af"
      },
      "outputs": [
        {
          "output_type": "execute_result",
          "data": {
            "text/plain": [
              "[1, 4, 9, 16]"
            ]
          },
          "metadata": {},
          "execution_count": 2
        }
      ],
      "source": [
        "numbers = [1,2,3,4]\n",
        "squared = []\n",
        "for num in numbers:\n",
        "  squared.append(num ** 2)\n",
        "squared"
      ]
    },
    {
      "cell_type": "markdown",
      "source": [
        "Allows you to process and transform all items in an iterable without using for loop"
      ],
      "metadata": {
        "id": "uKVBQ15baNcT"
      }
    },
    {
      "cell_type": "code",
      "source": [
        "def square(number):\n",
        "  return number ** 2\n",
        "\n",
        "numbers = [1,2,3,4,5]\n",
        "squared = map(square, numbers)\n",
        "list(squared)"
      ],
      "metadata": {
        "colab": {
          "base_uri": "https://localhost:8080/"
        },
        "id": "3iLMGE5rcfiO",
        "outputId": "23adc889-0f0a-4927-ab05-a5edd97c4511"
      },
      "execution_count": 3,
      "outputs": [
        {
          "output_type": "execute_result",
          "data": {
            "text/plain": [
              "[1, 4, 9, 16, 25]"
            ]
          },
          "metadata": {},
          "execution_count": 3
        }
      ]
    },
    {
      "cell_type": "code",
      "source": [
        "str_num = ['4', '8', '5', '3', '2']\n",
        "int_num = map(int, str_num)\n",
        "list(int_num)"
      ],
      "metadata": {
        "colab": {
          "base_uri": "https://localhost:8080/"
        },
        "id": "NK94Nl4ucx6O",
        "outputId": "7b5e8c9d-2704-4ae6-c8a1-e49306c475f4"
      },
      "execution_count": 4,
      "outputs": [
        {
          "output_type": "execute_result",
          "data": {
            "text/plain": [
              "[4, 8, 5, 3, 2]"
            ]
          },
          "metadata": {},
          "execution_count": 4
        }
      ]
    },
    {
      "cell_type": "code",
      "source": [
        "# Using map with different kind of functions\n",
        "numbers = [-1, -2, 0, 1, 2]\n",
        "abs_values = list(map(abs, numbers))\n",
        "abs_values"
      ],
      "metadata": {
        "colab": {
          "base_uri": "https://localhost:8080/"
        },
        "id": "4fAuLzVOdbOJ",
        "outputId": "3f6e9017-13ad-4636-9603-e83bd3c3a272"
      },
      "execution_count": 5,
      "outputs": [
        {
          "output_type": "execute_result",
          "data": {
            "text/plain": [
              "[1, 2, 0, 1, 2]"
            ]
          },
          "metadata": {},
          "execution_count": 5
        }
      ]
    },
    {
      "cell_type": "code",
      "source": [
        "list(map(float, numbers))"
      ],
      "metadata": {
        "colab": {
          "base_uri": "https://localhost:8080/"
        },
        "id": "BMDZnUtod4I0",
        "outputId": "86e9965a-7d0f-4b10-bdf1-d4f841f64c66"
      },
      "execution_count": 6,
      "outputs": [
        {
          "output_type": "execute_result",
          "data": {
            "text/plain": [
              "[-1.0, -2.0, 0.0, 1.0, 2.0]"
            ]
          },
          "metadata": {},
          "execution_count": 6
        }
      ]
    },
    {
      "cell_type": "code",
      "source": [
        "words = [\"Welcome\", \"to\", \"real\", \"python\"]\n",
        "list(map(len, words))"
      ],
      "metadata": {
        "colab": {
          "base_uri": "https://localhost:8080/"
        },
        "id": "tM_Xspw8d95f",
        "outputId": "1c3eb00d-d3c3-4418-df3e-310489463c05"
      },
      "execution_count": 7,
      "outputs": [
        {
          "output_type": "execute_result",
          "data": {
            "text/plain": [
              "[7, 2, 4, 6]"
            ]
          },
          "metadata": {},
          "execution_count": 7
        }
      ]
    },
    {
      "cell_type": "code",
      "source": [
        "numbers = [1,2,3,4,5]\n",
        "list(map(lambda num: num ** 2, numbers))"
      ],
      "metadata": {
        "colab": {
          "base_uri": "https://localhost:8080/"
        },
        "id": "h8yuvqJreJDX",
        "outputId": "fb9aa918-026a-4c1d-edf2-a61c3aae266e"
      },
      "execution_count": 8,
      "outputs": [
        {
          "output_type": "execute_result",
          "data": {
            "text/plain": [
              "[1, 4, 9, 16, 25]"
            ]
          },
          "metadata": {},
          "execution_count": 8
        }
      ]
    },
    {
      "cell_type": "markdown",
      "source": [
        "Use lambda function when you need to pass an expression based function to map"
      ],
      "metadata": {
        "id": "Q0jCP-oSfThE"
      }
    },
    {
      "cell_type": "code",
      "source": [
        "# processing multiple input variables \n",
        "first = [1,2,3,4]\n",
        "second = [5,6,7,8]\n",
        "list(map(pow, first, second))"
      ],
      "metadata": {
        "colab": {
          "base_uri": "https://localhost:8080/"
        },
        "id": "5jFNmdP-flYr",
        "outputId": "e7915a97-c2fd-4141-ce3b-9acd37e7c829"
      },
      "execution_count": 9,
      "outputs": [
        {
          "output_type": "execute_result",
          "data": {
            "text/plain": [
              "[1, 64, 2187, 65536]"
            ]
          },
          "metadata": {},
          "execution_count": 9
        }
      ]
    },
    {
      "cell_type": "code",
      "source": [
        "list(map(lambda x, y: x - y, [2,4,6], [1,3,5]))"
      ],
      "metadata": {
        "colab": {
          "base_uri": "https://localhost:8080/"
        },
        "id": "ctUko-15f6jd",
        "outputId": "1f6f20d4-9551-47ed-8b09-b82f04ee0809"
      },
      "execution_count": 10,
      "outputs": [
        {
          "output_type": "execute_result",
          "data": {
            "text/plain": [
              "[1, 1, 1]"
            ]
          },
          "metadata": {},
          "execution_count": 10
        }
      ]
    },
    {
      "cell_type": "code",
      "source": [
        "# use map to transform iterables of strings\n",
        "string = ['processing', 'strings', 'with', 'map']\n",
        "list(map(str.capitalize, string))"
      ],
      "metadata": {
        "colab": {
          "base_uri": "https://localhost:8080/"
        },
        "id": "n-TqthhMgMGk",
        "outputId": "5e2f960f-b1f8-4554-c836-834aa03c773f"
      },
      "execution_count": 11,
      "outputs": [
        {
          "output_type": "execute_result",
          "data": {
            "text/plain": [
              "['Processing', 'Strings', 'With', 'Map']"
            ]
          },
          "metadata": {},
          "execution_count": 11
        }
      ]
    },
    {
      "cell_type": "code",
      "source": [
        "list(map(str.upper, string))"
      ],
      "metadata": {
        "colab": {
          "base_uri": "https://localhost:8080/"
        },
        "id": "A41LEseGhVRu",
        "outputId": "4401bdb9-c1c5-4788-a193-bdafb9526aac"
      },
      "execution_count": 12,
      "outputs": [
        {
          "output_type": "execute_result",
          "data": {
            "text/plain": [
              "['PROCESSING', 'STRINGS', 'WITH', 'MAP']"
            ]
          },
          "metadata": {},
          "execution_count": 12
        }
      ]
    },
    {
      "cell_type": "code",
      "source": [
        "with_spaces = [\"processing \", \"  strings\", \"with   \", \" map   \"]\n",
        "list(map(str.strip, with_spaces))"
      ],
      "metadata": {
        "colab": {
          "base_uri": "https://localhost:8080/"
        },
        "id": "YWdUx9EAiIgx",
        "outputId": "76ddfec6-1fb6-4c74-f248-d13913ffca15"
      },
      "execution_count": 13,
      "outputs": [
        {
          "output_type": "execute_result",
          "data": {
            "text/plain": [
              "['processing', 'strings', 'with', 'map']"
            ]
          },
          "metadata": {},
          "execution_count": 13
        }
      ]
    },
    {
      "cell_type": "code",
      "source": [
        "import re\n",
        "def remove_punctuation(word):\n",
        "  return re.sub(r'[!?.:;,\"()-]', \"\", word)\n",
        "\n",
        "remove_punctuation(\"...Python!\")"
      ],
      "metadata": {
        "colab": {
          "base_uri": "https://localhost:8080/",
          "height": 35
        },
        "id": "0_Ik7NMViqQW",
        "outputId": "92a16c0c-0766-47bd-fc63-ea182b49deed"
      },
      "execution_count": 17,
      "outputs": [
        {
          "output_type": "execute_result",
          "data": {
            "text/plain": [
              "'Python'"
            ],
            "application/vnd.google.colaboratory.intrinsic+json": {
              "type": "string"
            }
          },
          "metadata": {},
          "execution_count": 17
        }
      ]
    },
    {
      "cell_type": "code",
      "source": [
        "text = \"\"\"Some people, when confronted with a problem, think\n",
        "\"I know, I'll use regular expressions.\"\n",
        "Now they have two problems. Jamie Zawinski\"\"\"\n",
        "words  = text.split()\n",
        "list(map(remove_punctuation, words))"
      ],
      "metadata": {
        "colab": {
          "base_uri": "https://localhost:8080/"
        },
        "id": "YEKbfXVhjPqM",
        "outputId": "e1f829b6-7f0a-422b-c22d-7bd7eb9f0cbb"
      },
      "execution_count": 18,
      "outputs": [
        {
          "output_type": "execute_result",
          "data": {
            "text/plain": [
              "['Some',\n",
              " 'people',\n",
              " 'when',\n",
              " 'confronted',\n",
              " 'with',\n",
              " 'a',\n",
              " 'problem',\n",
              " 'think',\n",
              " 'I',\n",
              " 'know',\n",
              " \"I'll\",\n",
              " 'use',\n",
              " 'regular',\n",
              " 'expressions',\n",
              " 'Now',\n",
              " 'they',\n",
              " 'have',\n",
              " 'two',\n",
              " 'problems',\n",
              " 'Jamie',\n",
              " 'Zawinski']"
            ]
          },
          "metadata": {},
          "execution_count": 18
        }
      ]
    },
    {
      "cell_type": "code",
      "source": [
        "# Caesar cipher algorithm\n",
        "def rotate_chr(c):\n",
        "  rot_by = 3\n",
        "  c = c.lower()\n",
        "  alphabet = 'abdefghijklmnopqrstuvwxyz'\n",
        "\n",
        "  # Keep punctuation and white spaces\n",
        "  if c not in alphabet:\n",
        "    return c\n",
        "  rotated_pos = ord(c) + rot_by\n",
        "  # if the rotation is inside the alphabet\n",
        "  if rotated_pos <= ord(alphabet[-1]):\n",
        "    return chr(rotated_pos)\n",
        "  return chr(rotated_pos - len(alphabet))"
      ],
      "metadata": {
        "id": "TsrrtXguj4gV"
      },
      "execution_count": 19,
      "outputs": []
    },
    {
      "cell_type": "code",
      "source": [
        "ord(\"a\")"
      ],
      "metadata": {
        "colab": {
          "base_uri": "https://localhost:8080/"
        },
        "id": "lVwmbdqyk54U",
        "outputId": "d4f8c793-b328-46bd-e5ae-f84696530e69"
      },
      "execution_count": 20,
      "outputs": [
        {
          "output_type": "execute_result",
          "data": {
            "text/plain": [
              "97"
            ]
          },
          "metadata": {},
          "execution_count": 20
        }
      ]
    },
    {
      "cell_type": "code",
      "source": [
        "chr(97)"
      ],
      "metadata": {
        "colab": {
          "base_uri": "https://localhost:8080/",
          "height": 35
        },
        "id": "KyafTxjok_OI",
        "outputId": "7c579619-1896-4e22-979b-8d5b0200011e"
      },
      "execution_count": 21,
      "outputs": [
        {
          "output_type": "execute_result",
          "data": {
            "text/plain": [
              "'a'"
            ],
            "application/vnd.google.colaboratory.intrinsic+json": {
              "type": "string"
            }
          },
          "metadata": {},
          "execution_count": 21
        }
      ]
    },
    {
      "cell_type": "code",
      "source": [
        "\"\" .join(map(rotate_chr, \"My secret message goes here.\"))"
      ],
      "metadata": {
        "colab": {
          "base_uri": "https://localhost:8080/",
          "height": 35
        },
        "id": "HTKH2xD-lNhL",
        "outputId": "3334c68d-6562-4b39-edaa-336e3fa53b58"
      },
      "execution_count": 22,
      "outputs": [
        {
          "output_type": "execute_result",
          "data": {
            "text/plain": [
              "'pc vhcuhw phvvdjh jrhv khuh.'"
            ],
            "application/vnd.google.colaboratory.intrinsic+json": {
              "type": "string"
            }
          },
          "metadata": {},
          "execution_count": 22
        }
      ]
    },
    {
      "cell_type": "code",
      "source": [
        "# transforming iterables\n",
        "def powers(x):\n",
        "  return x ** 2, x ** 3\n",
        "\n",
        "number = [1,2,3,4]\n",
        "list(map(powers, numbers))"
      ],
      "metadata": {
        "colab": {
          "base_uri": "https://localhost:8080/"
        },
        "id": "EZPN38j_lwWl",
        "outputId": "8b63037f-2c9f-46c5-dd98-40c342a95089"
      },
      "execution_count": 24,
      "outputs": [
        {
          "output_type": "execute_result",
          "data": {
            "text/plain": [
              "[(1, 1), (4, 8), (9, 27), (16, 64), (25, 125)]"
            ]
          },
          "metadata": {},
          "execution_count": 24
        }
      ]
    },
    {
      "cell_type": "code",
      "source": [
        "import math \n",
        "numbers = [1,2,3,4,5,6,7]\n",
        "list(map(math.factorial, numbers))"
      ],
      "metadata": {
        "colab": {
          "base_uri": "https://localhost:8080/"
        },
        "id": "J7ZC93_4l40x",
        "outputId": "4af37587-9cb1-480a-a56b-0d8852b548d5"
      },
      "execution_count": 25,
      "outputs": [
        {
          "output_type": "execute_result",
          "data": {
            "text/plain": [
              "[1, 2, 6, 24, 120, 720, 5040]"
            ]
          },
          "metadata": {},
          "execution_count": 25
        }
      ]
    },
    {
      "cell_type": "code",
      "source": [
        "def to_fahrenheit(c):\n",
        "  return 9 / 5 * c + 32\n",
        "\n",
        "def to_celcius(f):\n",
        "  return (f - 32) * 5/9\n",
        "\n",
        "celcius_temp = [100, 40, 80]\n",
        "list(map)"
      ],
      "metadata": {
        "id": "PrO3OBdAmqXY"
      },
      "execution_count": null,
      "outputs": []
    }
  ]
}