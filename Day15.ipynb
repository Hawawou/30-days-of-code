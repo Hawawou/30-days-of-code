{
  "nbformat": 4,
  "nbformat_minor": 0,
  "metadata": {
    "colab": {
      "provenance": [],
      "authorship_tag": "ABX9TyOO6F7OXlgacZcn/ybJ4+DL",
      "include_colab_link": true
    },
    "kernelspec": {
      "name": "python3",
      "display_name": "Python 3"
    },
    "language_info": {
      "name": "python"
    }
  },
  "cells": [
    {
      "cell_type": "markdown",
      "metadata": {
        "id": "view-in-github",
        "colab_type": "text"
      },
      "source": [
        "<a href=\"https://colab.research.google.com/github/Hawawou/30-days-of-code/blob/main/Day15.ipynb\" target=\"_parent\"><img src=\"https://colab.research.google.com/assets/colab-badge.svg\" alt=\"Open In Colab\"/></a>"
      ]
    },
    {
      "cell_type": "markdown",
      "source": [
        "Basic input, output and string formatting"
      ],
      "metadata": {
        "id": "wNGo_LBy0CXT"
      }
    },
    {
      "cell_type": "code",
      "execution_count": 1,
      "metadata": {
        "colab": {
          "base_uri": "https://localhost:8080/"
        },
        "id": "Zhe2dGK0zBlx",
        "outputId": "2aee1ba2-6c49-4040-8ba0-c857b20047d5"
      },
      "outputs": [
        {
          "name": "stdout",
          "output_type": "stream",
          "text": [
            "foo bar baz\n"
          ]
        }
      ],
      "source": [
        "user_input = input()\n"
      ]
    },
    {
      "cell_type": "code",
      "source": [
        "name = input(\"What is your name? \")\n"
      ],
      "metadata": {
        "colab": {
          "base_uri": "https://localhost:8080/"
        },
        "id": "ZnY5l1jj0xKM",
        "outputId": "e7c11e8c-6481-4efe-9562-7aac4f8294ef"
      },
      "execution_count": 2,
      "outputs": [
        {
          "name": "stdout",
          "output_type": "stream",
          "text": [
            "What is your name? Hawa\n"
          ]
        }
      ]
    },
    {
      "cell_type": "markdown",
      "source": [
        "input always returns strings"
      ],
      "metadata": {
        "id": "U4t1A4HP1FPb"
      }
    },
    {
      "cell_type": "code",
      "source": [
        "# numeric type\n",
        "number = int(input(\"Enter a number: \"))"
      ],
      "metadata": {
        "colab": {
          "base_uri": "https://localhost:8080/"
        },
        "id": "CxTsyRzJ0-Ef",
        "outputId": "a6cf6008-136c-4d8d-c560-41f0512a400e"
      },
      "execution_count": 4,
      "outputs": [
        {
          "name": "stdout",
          "output_type": "stream",
          "text": [
            "Enter a number: 30\n"
          ]
        }
      ]
    },
    {
      "cell_type": "code",
      "source": [
        "print(number + 29)"
      ],
      "metadata": {
        "colab": {
          "base_uri": "https://localhost:8080/"
        },
        "id": "Gk6UIuKX1d1Z",
        "outputId": "161e6d86-1fdc-4992-8c4b-fbcfb52f31b8"
      },
      "execution_count": 5,
      "outputs": [
        {
          "output_type": "stream",
          "name": "stdout",
          "text": [
            "59\n"
          ]
        }
      ]
    },
    {
      "cell_type": "code",
      "source": [
        "# Writing output to console\n",
        "first_name = \"Hawa\"\n",
        "last_name = \"Oumar\"\n",
        "print(\"Name: \", first_name, last_name)"
      ],
      "metadata": {
        "colab": {
          "base_uri": "https://localhost:8080/"
        },
        "id": "eQSDKEyk1rmm",
        "outputId": "743a3d24-8bab-4abd-bde2-bad62d05ce16"
      },
      "execution_count": 6,
      "outputs": [
        {
          "output_type": "stream",
          "name": "stdout",
          "text": [
            "Name:  Hawa Oumar\n"
          ]
        }
      ]
    },
    {
      "cell_type": "code",
      "source": [
        "example_list = [1,4,5]\n",
        "example_int = 23\n",
        "example_dict = {'foo':1, \"bar\":2}\n",
        "type(len)\n",
        "print(example_list, example_int, example_dict, len)"
      ],
      "metadata": {
        "colab": {
          "base_uri": "https://localhost:8080/"
        },
        "id": "AlAf_gXM2FFy",
        "outputId": "81f1cb45-11ae-4478-8944-6a9b88e741b6"
      },
      "execution_count": 7,
      "outputs": [
        {
          "output_type": "stream",
          "name": "stdout",
          "text": [
            "[1, 4, 5] 23 {'foo': 1, 'bar': 2} <built-in function len>\n"
          ]
        }
      ]
    },
    {
      "cell_type": "markdown",
      "source": [
        "Advanced print features"
      ],
      "metadata": {
        "id": "u3O8LoU82km-"
      }
    },
    {
      "cell_type": "code",
      "source": [
        "# separating printed values\n",
        "print('foo', 42, \"bar\")"
      ],
      "metadata": {
        "colab": {
          "base_uri": "https://localhost:8080/"
        },
        "id": "h-YZ7cFx2jvA",
        "outputId": "70157282-6335-4164-e79e-9b40dbf59d13"
      },
      "execution_count": 8,
      "outputs": [
        {
          "output_type": "stream",
          "name": "stdout",
          "text": [
            "foo 42 bar\n"
          ]
        }
      ]
    },
    {
      "cell_type": "code",
      "source": [
        "print('foo',  42, \"bar\", sep=\", \")"
      ],
      "metadata": {
        "colab": {
          "base_uri": "https://localhost:8080/"
        },
        "id": "5V890Si_20-w",
        "outputId": "4695b6f3-136c-4060-a96e-fca6f5585fed"
      },
      "execution_count": 11,
      "outputs": [
        {
          "output_type": "stream",
          "name": "stdout",
          "text": [
            "foo, 42, bar\n"
          ]
        }
      ]
    },
    {
      "cell_type": "code",
      "source": [
        "d = {'foo': 2, \"bar\": 2, \"baz\": 3}\n",
        "for k,v in d.items():\n",
        "  print(k,v, sep=\" -> \")"
      ],
      "metadata": {
        "colab": {
          "base_uri": "https://localhost:8080/"
        },
        "id": "Byzp6yzb24b4",
        "outputId": "b1fc3b3f-378e-4d0c-fca7-c724b6123ec6"
      },
      "execution_count": 12,
      "outputs": [
        {
          "output_type": "stream",
          "name": "stdout",
          "text": [
            "foo -> 2\n",
            "bar -> 2\n",
            "baz -> 3\n"
          ]
        }
      ]
    },
    {
      "cell_type": "code",
      "source": [
        "print(\"foo\", 42, \"bar\", sep=\"\")"
      ],
      "metadata": {
        "colab": {
          "base_uri": "https://localhost:8080/"
        },
        "id": "tse6BW7r3ej6",
        "outputId": "766e9b02-c84c-4888-dca8-e556c360f0de"
      },
      "execution_count": 13,
      "outputs": [
        {
          "output_type": "stream",
          "name": "stdout",
          "text": [
            "foo42bar\n"
          ]
        }
      ]
    },
    {
      "cell_type": "code",
      "source": [
        "# Controlling newline character\n",
        "if True:\n",
        "  print(\"foo\", end='/')\n",
        "  print(24, end='/')\n",
        "  print(\"bar\")\n"
      ],
      "metadata": {
        "colab": {
          "base_uri": "https://localhost:8080/"
        },
        "id": "rUAh-W843iGM",
        "outputId": "9ad0b180-7b0d-4e71-9cfd-73ee0f80da5d"
      },
      "execution_count": 15,
      "outputs": [
        {
          "output_type": "stream",
          "name": "stdout",
          "text": [
            "foo/24/bar\n"
          ]
        }
      ]
    },
    {
      "cell_type": "code",
      "source": [
        "for number in range(10):\n",
        "  print(number, end=(\" \" if number < 9 else \"\\n\"))"
      ],
      "metadata": {
        "colab": {
          "base_uri": "https://localhost:8080/"
        },
        "id": "b6S55QxZ3xow",
        "outputId": "67062c80-b332-4c3b-b680-124834e33ce1"
      },
      "execution_count": 16,
      "outputs": [
        {
          "output_type": "stream",
          "name": "stdout",
          "text": [
            "0 1 2 3 4 5 6 7 8 9\n"
          ]
        }
      ]
    },
    {
      "cell_type": "code",
      "source": [
        "# using formatted strings\n",
        "name = input(\"what is your name? \")\n"
      ],
      "metadata": {
        "colab": {
          "base_uri": "https://localhost:8080/"
        },
        "id": "FleA3ViW4AuA",
        "outputId": "81e7e9b5-cde2-4d55-9bce-538d5c0a5976"
      },
      "execution_count": 3,
      "outputs": [
        {
          "name": "stdout",
          "output_type": "stream",
          "text": [
            "what is your name? Hawa\n"
          ]
        }
      ]
    },
    {
      "cell_type": "code",
      "source": [
        "age = int(input(\"How old are you? \"))"
      ],
      "metadata": {
        "colab": {
          "base_uri": "https://localhost:8080/"
        },
        "id": "dlFKoQ8JnC3p",
        "outputId": "75f9857d-ae92-4a08-8fe9-cfb87bc7deeb"
      },
      "execution_count": 4,
      "outputs": [
        {
          "name": "stdout",
          "output_type": "stream",
          "text": [
            "How old are you? 22\n"
          ]
        }
      ]
    },
    {
      "cell_type": "code",
      "source": [
        "f\"Hello, {name}. You are {age}.\""
      ],
      "metadata": {
        "colab": {
          "base_uri": "https://localhost:8080/",
          "height": 35
        },
        "id": "rODUl120l7sk",
        "outputId": "bf818efb-5f83-4993-a99a-62f571622a90"
      },
      "execution_count": 5,
      "outputs": [
        {
          "output_type": "execute_result",
          "data": {
            "text/plain": [
              "'Hello, Hawa. You are 22.'"
            ],
            "application/vnd.google.colaboratory.intrinsic+json": {
              "type": "string"
            }
          },
          "metadata": {},
          "execution_count": 5
        }
      ]
    },
    {
      "cell_type": "code",
      "source": [
        "f\"Hello {name}. In 50 years, you'll be {age + 50}.\""
      ],
      "metadata": {
        "colab": {
          "base_uri": "https://localhost:8080/",
          "height": 35
        },
        "id": "_MhaX5TxmSao",
        "outputId": "9e0df6a4-b72c-438c-817e-6ebbb7247e4c"
      },
      "execution_count": 6,
      "outputs": [
        {
          "output_type": "execute_result",
          "data": {
            "text/plain": [
              "\"Hello Hawa. In 50 years, you'll be 72.\""
            ],
            "application/vnd.google.colaboratory.intrinsic+json": {
              "type": "string"
            }
          },
          "metadata": {},
          "execution_count": 6
        }
      ]
    },
    {
      "cell_type": "code",
      "source": [],
      "metadata": {
        "id": "lrYiFepjnNlG"
      },
      "execution_count": null,
      "outputs": []
    }
  ]
}