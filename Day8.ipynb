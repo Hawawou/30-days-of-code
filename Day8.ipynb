{
  "nbformat": 4,
  "nbformat_minor": 0,
  "metadata": {
    "colab": {
      "provenance": [],
      "authorship_tag": "ABX9TyMQCZRg95Zi/om42NGwN8w2",
      "include_colab_link": true
    },
    "kernelspec": {
      "name": "python3",
      "display_name": "Python 3"
    },
    "language_info": {
      "name": "python"
    }
  },
  "cells": [
    {
      "cell_type": "markdown",
      "metadata": {
        "id": "view-in-github",
        "colab_type": "text"
      },
      "source": [
        "<a href=\"https://colab.research.google.com/github/Hawawou/30-days-of-code/blob/main/Day8.ipynb\" target=\"_parent\"><img src=\"https://colab.research.google.com/assets/colab-badge.svg\" alt=\"Open In Colab\"/></a>"
      ]
    },
    {
      "cell_type": "code",
      "execution_count": 1,
      "metadata": {
        "id": "-aEwUOMZsgDT"
      },
      "outputs": [],
      "source": [
        "# conditionals\n",
        "# if\n",
        "x = 0\n",
        "y = 5"
      ]
    },
    {
      "cell_type": "code",
      "source": [
        "if x < y:\n",
        "  print('yes')"
      ],
      "metadata": {
        "colab": {
          "base_uri": "https://localhost:8080/"
        },
        "id": "BPA2kuiKttGJ",
        "outputId": "cb86a20a-f24b-4263-ca58-5a624da705c0"
      },
      "execution_count": 2,
      "outputs": [
        {
          "output_type": "stream",
          "name": "stdout",
          "text": [
            "yes\n"
          ]
        }
      ]
    },
    {
      "cell_type": "code",
      "source": [
        "if y < x:\n",
        "  print('yes')"
      ],
      "metadata": {
        "id": "fzT_goAPtv8c"
      },
      "execution_count": 3,
      "outputs": []
    },
    {
      "cell_type": "code",
      "source": [
        "if x:\n",
        "  print('yes')"
      ],
      "metadata": {
        "id": "zSbE8tSQt03n"
      },
      "execution_count": 4,
      "outputs": []
    },
    {
      "cell_type": "code",
      "source": [
        "if y:\n",
        "  print('yes')"
      ],
      "metadata": {
        "colab": {
          "base_uri": "https://localhost:8080/"
        },
        "id": "a9QY2lGet8DZ",
        "outputId": "f8107f39-8eb6-46ab-dbe6-c67e364fc5ac"
      },
      "execution_count": 5,
      "outputs": [
        {
          "output_type": "stream",
          "name": "stdout",
          "text": [
            "yes\n"
          ]
        }
      ]
    },
    {
      "cell_type": "code",
      "source": [
        "if x or y:\n",
        "  print('yes')"
      ],
      "metadata": {
        "colab": {
          "base_uri": "https://localhost:8080/"
        },
        "id": "RWrrt7ktt-V5",
        "outputId": "a0f7575e-3623-442e-9a26-c0658b675e97"
      },
      "execution_count": 6,
      "outputs": [
        {
          "output_type": "stream",
          "name": "stdout",
          "text": [
            "yes\n"
          ]
        }
      ]
    },
    {
      "cell_type": "code",
      "source": [
        "if x and y:\n",
        "  print('yes')"
      ],
      "metadata": {
        "id": "PTLKWigzuCXy"
      },
      "execution_count": 7,
      "outputs": []
    },
    {
      "cell_type": "code",
      "source": [
        "if 'aul' in 'grault':\n",
        "  print('yes')"
      ],
      "metadata": {
        "colab": {
          "base_uri": "https://localhost:8080/"
        },
        "id": "OmU62SJguFsM",
        "outputId": "6db8b990-de5e-4663-f997-813dd072a30c"
      },
      "execution_count": 8,
      "outputs": [
        {
          "output_type": "stream",
          "name": "stdout",
          "text": [
            "yes\n"
          ]
        }
      ]
    },
    {
      "cell_type": "code",
      "source": [
        "if 'quux' in ['foo', 'bar', 'baz']:\n",
        "  print('yes')"
      ],
      "metadata": {
        "id": "YPm5ug59uPd5"
      },
      "execution_count": 9,
      "outputs": []
    },
    {
      "cell_type": "code",
      "source": [
        "if 'foo' in ['bar', 'baz', 'qux']:\n",
        "  print('Expression was true')\n",
        "  print('Executing statement in suite')\n",
        "  print('...')\n",
        "  print('Done.')\n",
        "print('After conditional')"
      ],
      "metadata": {
        "colab": {
          "base_uri": "https://localhost:8080/"
        },
        "id": "U5qqPHfbuWvO",
        "outputId": "50741db3-cff6-4f77-9a86-2fa6ee565d79"
      },
      "execution_count": 10,
      "outputs": [
        {
          "output_type": "stream",
          "name": "stdout",
          "text": [
            "After conditional\n"
          ]
        }
      ]
    },
    {
      "cell_type": "code",
      "source": [
        "if 'foo' in ['foo', 'bar', 'baz']:\n",
        "  print('Outer condition is true')\n",
        "\n",
        "  if 10 > 20:\n",
        "    print('Inner condition 1')\n",
        "  print('Between inner conditions')\n",
        "\n",
        "  if 10 < 20:\n",
        "    print('Inner condition 2')\n",
        "\n",
        "  print('End of outer condition')\n",
        "print('After outer condition')"
      ],
      "metadata": {
        "colab": {
          "base_uri": "https://localhost:8080/"
        },
        "id": "8lGuMJvju50d",
        "outputId": "ee10abbf-2314-4a6f-b21a-cf6f18ebfa7b"
      },
      "execution_count": 11,
      "outputs": [
        {
          "output_type": "stream",
          "name": "stdout",
          "text": [
            "Outer condition is true\n",
            "Between inner conditions\n",
            "Inner condition 2\n",
            "End of outer condition\n",
            "After outer condition\n"
          ]
        }
      ]
    },
    {
      "cell_type": "code",
      "source": [
        "# else and elif\n",
        "x = 20\n",
        "if x < 50:\n",
        "  print('(first suite)')\n",
        "  print ('x is small')\n",
        "else:\n",
        "  print('(second suite)')\n",
        "  print('x is large')"
      ],
      "metadata": {
        "colab": {
          "base_uri": "https://localhost:8080/"
        },
        "id": "pyOPaI4OvhmJ",
        "outputId": "da8c0969-7f7a-4118-b6ff-99dd0d07ea06"
      },
      "execution_count": 12,
      "outputs": [
        {
          "output_type": "stream",
          "name": "stdout",
          "text": [
            "(first suite)\n",
            "x is small\n"
          ]
        }
      ]
    },
    {
      "cell_type": "code",
      "source": [
        "x = 120\n",
        "if x < 50:\n",
        "  print('(first suite)')\n",
        "  print ('x is small')\n",
        "else:\n",
        "  print('(second suite)')\n",
        "  print('x is large')"
      ],
      "metadata": {
        "colab": {
          "base_uri": "https://localhost:8080/"
        },
        "id": "XfWFjYWgxJ-T",
        "outputId": "5a791c18-f8be-47fb-b882-863014143dc7"
      },
      "execution_count": 13,
      "outputs": [
        {
          "output_type": "stream",
          "name": "stdout",
          "text": [
            "(second suite)\n",
            "x is large\n"
          ]
        }
      ]
    },
    {
      "cell_type": "code",
      "source": [
        "name = 'Joe'\n",
        "if name == 'Fred':\n",
        "  print('Hello Fred')\n",
        "elif name == 'Xander':\n",
        "  print('Hello Xander')\n",
        "elif name == 'Joe':\n",
        "  print('Hello Joe')\n",
        "else:\n",
        "  print(\"I don't who you are\")"
      ],
      "metadata": {
        "colab": {
          "base_uri": "https://localhost:8080/"
        },
        "id": "0TuPVjzpxPHs",
        "outputId": "031e35fd-9902-48ec-ca7b-e38b5d2b997d"
      },
      "execution_count": 14,
      "outputs": [
        {
          "output_type": "stream",
          "name": "stdout",
          "text": [
            "Hello Joe\n"
          ]
        }
      ]
    },
    {
      "cell_type": "code",
      "source": [
        "names = {\n",
        "    'Fred': 'Hello Fred',\n",
        "    'Xander': 'Hello Xander',\n",
        "    'Joe': 'Hello Joe',\n",
        "    'Arnold': 'Hello Arnold'\n",
        "}\n",
        "print(names.get('Joe', \"I don't know who you are\"))"
      ],
      "metadata": {
        "colab": {
          "base_uri": "https://localhost:8080/"
        },
        "id": "r-A7YEFxxzVH",
        "outputId": "18371e1c-4ad4-4ac1-8a0e-ec0af0b8857d"
      },
      "execution_count": 16,
      "outputs": [
        {
          "output_type": "stream",
          "name": "stdout",
          "text": [
            "Hello Joe\n"
          ]
        }
      ]
    },
    {
      "cell_type": "code",
      "source": [
        "print(names.get('Rick', \"I don't know who you are\"))"
      ],
      "metadata": {
        "colab": {
          "base_uri": "https://localhost:8080/"
        },
        "id": "UKEz0UV8x733",
        "outputId": "c984af0f-52ac-4e59-d1e0-6e768a2eaf61"
      },
      "execution_count": 17,
      "outputs": [
        {
          "output_type": "stream",
          "name": "stdout",
          "text": [
            "I don't know who you are\n"
          ]
        }
      ]
    },
    {
      "cell_type": "code",
      "source": [
        "# one line if statements\n",
        "if 'f' in 'foo': print('1'); print('2'); print('3')"
      ],
      "metadata": {
        "colab": {
          "base_uri": "https://localhost:8080/"
        },
        "id": "Gxj1Aa93ycsf",
        "outputId": "c49ae19f-440a-4e4f-d090-92162841cc30"
      },
      "execution_count": 18,
      "outputs": [
        {
          "output_type": "stream",
          "name": "stdout",
          "text": [
            "1\n",
            "2\n",
            "3\n"
          ]
        }
      ]
    },
    {
      "cell_type": "code",
      "source": [
        "x = 2\n",
        "if x == 1: print('foo'); print('bar'); print('baz')\n",
        "elif x == 2: print('qux'); print('quux')\n",
        "else: print('corge'); print('grault')"
      ],
      "metadata": {
        "colab": {
          "base_uri": "https://localhost:8080/"
        },
        "id": "pPY1ZnoSzMrs",
        "outputId": "6c10859c-f3ac-4566-8bec-2d5e8a07e264"
      },
      "execution_count": 19,
      "outputs": [
        {
          "output_type": "stream",
          "name": "stdout",
          "text": [
            "qux\n",
            "quux\n"
          ]
        }
      ]
    },
    {
      "cell_type": "code",
      "source": [
        "x = 3\n",
        "if x == 1: print('foo'); print('bar'); print('baz')\n",
        "elif x == 2: print('qux'); print('quux')\n",
        "else: print('corge'); print('grault')"
      ],
      "metadata": {
        "colab": {
          "base_uri": "https://localhost:8080/"
        },
        "id": "0OQeJ-WL1Eac",
        "outputId": "bb6f1d8e-2c8e-4f0a-e4bb-1ecec5ba7e21"
      },
      "execution_count": 20,
      "outputs": [
        {
          "output_type": "stream",
          "name": "stdout",
          "text": [
            "corge\n",
            "grault\n"
          ]
        }
      ]
    },
    {
      "cell_type": "code",
      "source": [
        "# Conditional Expressions\n",
        "raining = False\n",
        "print(\"Let's go to the\", 'beach' if not raining else 'library')"
      ],
      "metadata": {
        "colab": {
          "base_uri": "https://localhost:8080/"
        },
        "id": "uRtgjF761JcK",
        "outputId": "ea4a920e-905f-4cb3-ce59-6239828f082e"
      },
      "execution_count": 21,
      "outputs": [
        {
          "output_type": "stream",
          "name": "stdout",
          "text": [
            "Let's go to the beach\n"
          ]
        }
      ]
    },
    {
      "cell_type": "code",
      "source": [
        "raining = True\n",
        "print(\"Let's go to the\", 'beach' if not raining else 'library')"
      ],
      "metadata": {
        "colab": {
          "base_uri": "https://localhost:8080/"
        },
        "id": "I6wC9aQO119q",
        "outputId": "001df893-5b60-4aac-f8aa-e9cccdab1ab1"
      },
      "execution_count": 22,
      "outputs": [
        {
          "output_type": "stream",
          "name": "stdout",
          "text": [
            "Let's go to the library\n"
          ]
        }
      ]
    },
    {
      "cell_type": "code",
      "source": [
        "age = 12\n",
        "s = 'minor' if age < 21 else 'adult'\n",
        "s"
      ],
      "metadata": {
        "colab": {
          "base_uri": "https://localhost:8080/",
          "height": 35
        },
        "id": "L7Hr3rMn2Ayq",
        "outputId": "eefcb92a-f7d6-4105-9e22-81719a049442"
      },
      "execution_count": 24,
      "outputs": [
        {
          "output_type": "execute_result",
          "data": {
            "text/plain": [
              "'minor'"
            ],
            "application/vnd.google.colaboratory.intrinsic+json": {
              "type": "string"
            }
          },
          "metadata": {},
          "execution_count": 24
        }
      ]
    },
    {
      "cell_type": "code",
      "source": [
        "'yes' if ('qux' in ['foo', 'bar', 'baz']) else 'no'"
      ],
      "metadata": {
        "colab": {
          "base_uri": "https://localhost:8080/",
          "height": 35
        },
        "id": "NaQ12LGE2Gm2",
        "outputId": "19406a4a-c13d-4959-f811-33c89ff9b326"
      },
      "execution_count": 26,
      "outputs": [
        {
          "output_type": "execute_result",
          "data": {
            "text/plain": [
              "'no'"
            ],
            "application/vnd.google.colaboratory.intrinsic+json": {
              "type": "string"
            }
          },
          "metadata": {},
          "execution_count": 26
        }
      ]
    },
    {
      "cell_type": "code",
      "source": [
        "b = 50\n",
        "m = 20 if 20 > b else b\n",
        "m"
      ],
      "metadata": {
        "colab": {
          "base_uri": "https://localhost:8080/"
        },
        "id": "wRlt1nNR2QeT",
        "outputId": "25629d66-07fa-4815-ee80-7d6fcc090f39"
      },
      "execution_count": 28,
      "outputs": [
        {
          "output_type": "execute_result",
          "data": {
            "text/plain": [
              "50"
            ]
          },
          "metadata": {},
          "execution_count": 28
        }
      ]
    },
    {
      "cell_type": "code",
      "source": [
        "x = y = 40\n",
        "z = 1 + (x if x > y else y) + 2\n",
        "z"
      ],
      "metadata": {
        "colab": {
          "base_uri": "https://localhost:8080/"
        },
        "id": "-czMujx72l8R",
        "outputId": "1d1dda37-0aa1-4db8-affc-526a55c7c91b"
      },
      "execution_count": 29,
      "outputs": [
        {
          "output_type": "execute_result",
          "data": {
            "text/plain": [
              "43"
            ]
          },
          "metadata": {},
          "execution_count": 29
        }
      ]
    },
    {
      "cell_type": "code",
      "source": [
        "# the pass statement\n",
        "if True:\n",
        "  pass\n",
        "print('foo')"
      ],
      "metadata": {
        "colab": {
          "base_uri": "https://localhost:8080/"
        },
        "id": "YfBzwjpe3C9h",
        "outputId": "fba3a262-b56d-447a-b439-1015137edbdf"
      },
      "execution_count": 30,
      "outputs": [
        {
          "output_type": "stream",
          "name": "stdout",
          "text": [
            "foo\n"
          ]
        }
      ]
    },
    {
      "cell_type": "code",
      "source": [],
      "metadata": {
        "id": "4C-EuR7h3ixp"
      },
      "execution_count": null,
      "outputs": []
    }
  ]
}