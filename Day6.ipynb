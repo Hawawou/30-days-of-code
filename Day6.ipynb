{
  "nbformat": 4,
  "nbformat_minor": 0,
  "metadata": {
    "colab": {
      "provenance": [],
      "authorship_tag": "ABX9TyMKzs+hwESpZMuaRuX0m+7E",
      "include_colab_link": true
    },
    "kernelspec": {
      "name": "python3",
      "display_name": "Python 3"
    },
    "language_info": {
      "name": "python"
    }
  },
  "cells": [
    {
      "cell_type": "markdown",
      "metadata": {
        "id": "view-in-github",
        "colab_type": "text"
      },
      "source": [
        "<a href=\"https://colab.research.google.com/github/Hawawou/30-days-of-code/blob/main/Day6.ipynb\" target=\"_parent\"><img src=\"https://colab.research.google.com/assets/colab-badge.svg\" alt=\"Open In Colab\"/></a>"
      ]
    },
    {
      "cell_type": "code",
      "execution_count": 3,
      "metadata": {
        "id": "pxVFYKfSWPxp",
        "colab": {
          "base_uri": "https://localhost:8080/"
        },
        "outputId": "9d19fd1c-8cf2-4079-83fd-d00a40c1a25c"
      },
      "outputs": [
        {
          "output_type": "execute_result",
          "data": {
            "text/plain": [
              "{'bar', 'baz', 'foo', 'qux'}"
            ]
          },
          "metadata": {},
          "execution_count": 3
        }
      ],
      "source": [
        "x = set(['foo', 'bar', 'baz', 'foo', 'qux'])\n",
        "x"
      ]
    },
    {
      "cell_type": "markdown",
      "source": [
        "Sets are unordered, unique, cannot contain duplicates and elements contained in a set must be of an immutable type"
      ],
      "metadata": {
        "id": "PlytQLYmZR9_"
      }
    },
    {
      "cell_type": "code",
      "source": [
        "x = set(('foo', 'bar', 'baz', 'foo', 'qux'))\n",
        "x"
      ],
      "metadata": {
        "colab": {
          "base_uri": "https://localhost:8080/"
        },
        "id": "ExoIMn1XaNIc",
        "outputId": "d45078f7-ebd2-4cae-ad3e-6f86270d789b"
      },
      "execution_count": 4,
      "outputs": [
        {
          "output_type": "execute_result",
          "data": {
            "text/plain": [
              "{'bar', 'baz', 'foo', 'qux'}"
            ]
          },
          "metadata": {},
          "execution_count": 4
        }
      ]
    },
    {
      "cell_type": "code",
      "source": [
        "s = 'hawa'\n",
        "set(s)"
      ],
      "metadata": {
        "colab": {
          "base_uri": "https://localhost:8080/"
        },
        "id": "pENrTpFiaVJR",
        "outputId": "7c80d94c-4fdf-400e-c34f-50015aa6f895"
      },
      "execution_count": 5,
      "outputs": [
        {
          "output_type": "execute_result",
          "data": {
            "text/plain": [
              "{'a', 'h', 'w'}"
            ]
          },
          "metadata": {},
          "execution_count": 5
        }
      ]
    },
    {
      "cell_type": "markdown",
      "source": [
        "duplicate values are represented once"
      ],
      "metadata": {
        "id": "KVx7WgadaoO9"
      }
    },
    {
      "cell_type": "code",
      "source": [
        "x = {'foo', 'bar', 'baz', 'foo', 'qux'}\n",
        "x"
      ],
      "metadata": {
        "colab": {
          "base_uri": "https://localhost:8080/"
        },
        "id": "VtQNNP51afus",
        "outputId": "da995f3d-393f-480d-d77d-4e38da7c908d"
      },
      "execution_count": 6,
      "outputs": [
        {
          "output_type": "execute_result",
          "data": {
            "text/plain": [
              "{'bar', 'baz', 'foo', 'qux'}"
            ]
          },
          "metadata": {},
          "execution_count": 6
        }
      ]
    },
    {
      "cell_type": "code",
      "source": [
        "y = {'foo'}\n",
        "print(y)\n",
        "set('foo')"
      ],
      "metadata": {
        "colab": {
          "base_uri": "https://localhost:8080/"
        },
        "id": "V1BtF_1ca9Sv",
        "outputId": "87d399f2-f47e-4a90-a8c8-82d011b8ead7"
      },
      "execution_count": 9,
      "outputs": [
        {
          "output_type": "stream",
          "name": "stdout",
          "text": [
            "{'foo'}\n"
          ]
        },
        {
          "output_type": "execute_result",
          "data": {
            "text/plain": [
              "{'f', 'o'}"
            ]
          },
          "metadata": {},
          "execution_count": 9
        }
      ]
    },
    {
      "cell_type": "code",
      "source": [
        "x = set()\n",
        "x"
      ],
      "metadata": {
        "colab": {
          "base_uri": "https://localhost:8080/"
        },
        "id": "xqkg55K1cLn1",
        "outputId": "cace523b-9ec0-4de0-83ec-22ff97f5b948"
      },
      "execution_count": 11,
      "outputs": [
        {
          "output_type": "execute_result",
          "data": {
            "text/plain": [
              "set()"
            ]
          },
          "metadata": {},
          "execution_count": 11
        }
      ]
    },
    {
      "cell_type": "code",
      "source": [
        "x = {42, 'foo', (1,2,3), 3.187}\n",
        "x"
      ],
      "metadata": {
        "colab": {
          "base_uri": "https://localhost:8080/"
        },
        "id": "Bag9C2hDcaOF",
        "outputId": "f1d5d75c-68a2-49f9-cf33-7b473f29dd3e"
      },
      "execution_count": 12,
      "outputs": [
        {
          "output_type": "execute_result",
          "data": {
            "text/plain": [
              "{(1, 2, 3), 3.187, 42, 'foo'}"
            ]
          },
          "metadata": {},
          "execution_count": 12
        }
      ]
    },
    {
      "cell_type": "markdown",
      "source": [
        "elements in a text can be of different types"
      ],
      "metadata": {
        "id": "9aYLpxkmc5vp"
      }
    },
    {
      "cell_type": "code",
      "source": [
        "# length size\n",
        "len(x)"
      ],
      "metadata": {
        "colab": {
          "base_uri": "https://localhost:8080/"
        },
        "id": "7AyfN9Grc0kO",
        "outputId": "5ab01dbf-500b-4025-d8c6-ee240b7f76bd"
      },
      "execution_count": 13,
      "outputs": [
        {
          "output_type": "execute_result",
          "data": {
            "text/plain": [
              "4"
            ]
          },
          "metadata": {},
          "execution_count": 13
        }
      ]
    },
    {
      "cell_type": "code",
      "source": [
        "'bar' in x"
      ],
      "metadata": {
        "colab": {
          "base_uri": "https://localhost:8080/"
        },
        "id": "VNAk5lC4dHGk",
        "outputId": "57d2b93b-2303-4aaf-9b8e-007e73366969"
      },
      "execution_count": 15,
      "outputs": [
        {
          "output_type": "execute_result",
          "data": {
            "text/plain": [
              "True"
            ]
          },
          "metadata": {},
          "execution_count": 15
        }
      ]
    },
    {
      "cell_type": "code",
      "source": [
        "'foo' in x"
      ],
      "metadata": {
        "colab": {
          "base_uri": "https://localhost:8080/"
        },
        "id": "anaxEs7WdLst",
        "outputId": "bd155865-a4d3-46b8-ead0-12d0389f5a5b"
      },
      "execution_count": 16,
      "outputs": [
        {
          "output_type": "execute_result",
          "data": {
            "text/plain": [
              "True"
            ]
          },
          "metadata": {},
          "execution_count": 16
        }
      ]
    },
    {
      "cell_type": "code",
      "source": [
        "# Operating on a set\n",
        "# Union\n",
        "x1 = {'foo', 'bar', 'baz'}\n",
        "x2 = {'baz', 'qux', 'quux'}\n",
        "x1 | x2"
      ],
      "metadata": {
        "colab": {
          "base_uri": "https://localhost:8080/"
        },
        "id": "b43vUvkLdSuQ",
        "outputId": "fba17487-f218-401c-8238-31e65d433d22"
      },
      "execution_count": 17,
      "outputs": [
        {
          "output_type": "execute_result",
          "data": {
            "text/plain": [
              "{'bar', 'baz', 'foo', 'quux', 'qux'}"
            ]
          },
          "metadata": {},
          "execution_count": 17
        }
      ]
    },
    {
      "cell_type": "markdown",
      "source": [
        "Both operand must be sets"
      ],
      "metadata": {
        "id": "U4j16fL9gwvG"
      }
    },
    {
      "cell_type": "code",
      "source": [
        "x1.union(x2)"
      ],
      "metadata": {
        "colab": {
          "base_uri": "https://localhost:8080/"
        },
        "id": "muZlYCTLgkrZ",
        "outputId": "f882fa11-bb91-491c-ab44-ee9d9f802bf8"
      },
      "execution_count": 18,
      "outputs": [
        {
          "output_type": "execute_result",
          "data": {
            "text/plain": [
              "{'bar', 'baz', 'foo', 'quux', 'qux'}"
            ]
          },
          "metadata": {},
          "execution_count": 18
        }
      ]
    },
    {
      "cell_type": "markdown",
      "source": [
        "Takes any iterable as an arugument and converts it to set then performs the union"
      ],
      "metadata": {
        "id": "OnJSzjPTg0GU"
      }
    },
    {
      "cell_type": "code",
      "source": [
        "x1.union('baz', 'qux', 'quux') "
      ],
      "metadata": {
        "colab": {
          "base_uri": "https://localhost:8080/"
        },
        "id": "-uzhq_6UgsDD",
        "outputId": "4f4c37a7-92d4-44c0-c3a0-77f83e4cd024"
      },
      "execution_count": 20,
      "outputs": [
        {
          "output_type": "execute_result",
          "data": {
            "text/plain": [
              "{'a', 'b', 'bar', 'baz', 'foo', 'q', 'u', 'x', 'z'}"
            ]
          },
          "metadata": {},
          "execution_count": 20
        }
      ]
    },
    {
      "cell_type": "code",
      "source": [
        "a = {1, 2, 3, 4}\n",
        "b = {2, 3, 4, 5}\n",
        "c = {3, 4, 5, 6}\n",
        "d = {4, 5, 6, 7}\n",
        "a.union(b,c,d)"
      ],
      "metadata": {
        "colab": {
          "base_uri": "https://localhost:8080/"
        },
        "id": "UQ-MrwUFhFrn",
        "outputId": "d50b1e82-5193-4c0f-9afb-fb8d243ed279"
      },
      "execution_count": 21,
      "outputs": [
        {
          "output_type": "execute_result",
          "data": {
            "text/plain": [
              "{1, 2, 3, 4, 5, 6, 7}"
            ]
          },
          "metadata": {},
          "execution_count": 21
        }
      ]
    },
    {
      "cell_type": "code",
      "source": [
        "a|b|c|d"
      ],
      "metadata": {
        "colab": {
          "base_uri": "https://localhost:8080/"
        },
        "id": "JL2RU7w0heLT",
        "outputId": "b147a271-ee27-48cb-8ae9-39ef5f931ff2"
      },
      "execution_count": 22,
      "outputs": [
        {
          "output_type": "execute_result",
          "data": {
            "text/plain": [
              "{1, 2, 3, 4, 5, 6, 7}"
            ]
          },
          "metadata": {},
          "execution_count": 22
        }
      ]
    },
    {
      "cell_type": "code",
      "source": [
        "# Intersection\n",
        "a & b"
      ],
      "metadata": {
        "colab": {
          "base_uri": "https://localhost:8080/"
        },
        "id": "Kk8uRsJKhhvD",
        "outputId": "d428d282-b505-4c71-fdfe-ef9ceec83540"
      },
      "execution_count": 23,
      "outputs": [
        {
          "output_type": "execute_result",
          "data": {
            "text/plain": [
              "{2, 3, 4}"
            ]
          },
          "metadata": {},
          "execution_count": 23
        }
      ]
    },
    {
      "cell_type": "code",
      "source": [
        "a.intersection(b)"
      ],
      "metadata": {
        "colab": {
          "base_uri": "https://localhost:8080/"
        },
        "id": "-K4Y4fBZhpjC",
        "outputId": "3eef2394-dbb4-40a9-bc2b-e0b4ef6f4e3c"
      },
      "execution_count": 24,
      "outputs": [
        {
          "output_type": "execute_result",
          "data": {
            "text/plain": [
              "{2, 3, 4}"
            ]
          },
          "metadata": {},
          "execution_count": 24
        }
      ]
    },
    {
      "cell_type": "code",
      "source": [
        "# difference\n",
        "a.difference(b)"
      ],
      "metadata": {
        "colab": {
          "base_uri": "https://localhost:8080/"
        },
        "id": "nme2bj9qhtry",
        "outputId": "bd7fe101-ec63-47c9-a1cd-831800087ccd"
      },
      "execution_count": 25,
      "outputs": [
        {
          "output_type": "execute_result",
          "data": {
            "text/plain": [
              "{1}"
            ]
          },
          "metadata": {},
          "execution_count": 25
        }
      ]
    },
    {
      "cell_type": "markdown",
      "source": [
        "returns the set of elements that are in a but not b"
      ],
      "metadata": {
        "id": "09TQGNCFh9Vc"
      }
    },
    {
      "cell_type": "code",
      "source": [
        "a - b"
      ],
      "metadata": {
        "colab": {
          "base_uri": "https://localhost:8080/"
        },
        "id": "LCiCEMbNh4fQ",
        "outputId": "9eefb127-3483-4660-a7bb-0c4f96edc9cb"
      },
      "execution_count": 26,
      "outputs": [
        {
          "output_type": "execute_result",
          "data": {
            "text/plain": [
              "{1}"
            ]
          },
          "metadata": {},
          "execution_count": 26
        }
      ]
    },
    {
      "cell_type": "code",
      "source": [
        "a.difference(b,c)"
      ],
      "metadata": {
        "colab": {
          "base_uri": "https://localhost:8080/"
        },
        "id": "ESTSTcaXh7_B",
        "outputId": "f313ccf9-fb66-4299-dfca-6903f7e84d9b"
      },
      "execution_count": 27,
      "outputs": [
        {
          "output_type": "execute_result",
          "data": {
            "text/plain": [
              "{1}"
            ]
          },
          "metadata": {},
          "execution_count": 27
        }
      ]
    },
    {
      "cell_type": "code",
      "source": [
        "a.symmetric_difference(b)"
      ],
      "metadata": {
        "colab": {
          "base_uri": "https://localhost:8080/"
        },
        "id": "rv0NAdQEiMPC",
        "outputId": "2a63e8c1-a367-4f44-aa2a-2662876061d7"
      },
      "execution_count": 28,
      "outputs": [
        {
          "output_type": "execute_result",
          "data": {
            "text/plain": [
              "{1, 5}"
            ]
          },
          "metadata": {},
          "execution_count": 28
        }
      ]
    },
    {
      "cell_type": "markdown",
      "source": [
        "returns the set of all elements in either a or b but not both"
      ],
      "metadata": {
        "id": "XYe7_NXZirK-"
      }
    },
    {
      "cell_type": "code",
      "source": [
        "a ^ b"
      ],
      "metadata": {
        "colab": {
          "base_uri": "https://localhost:8080/"
        },
        "id": "iIx1Sq7XieLB",
        "outputId": "2eb150b1-9d50-47de-cbfd-99379fc795b4"
      },
      "execution_count": 29,
      "outputs": [
        {
          "output_type": "execute_result",
          "data": {
            "text/plain": [
              "{1, 5}"
            ]
          },
          "metadata": {},
          "execution_count": 29
        }
      ]
    },
    {
      "cell_type": "code",
      "source": [
        "a^b^c"
      ],
      "metadata": {
        "colab": {
          "base_uri": "https://localhost:8080/"
        },
        "id": "9xEso0g1if0Z",
        "outputId": "248756fc-da63-476a-af0d-142ff67bb838"
      },
      "execution_count": 30,
      "outputs": [
        {
          "output_type": "execute_result",
          "data": {
            "text/plain": [
              "{1, 3, 4, 6}"
            ]
          },
          "metadata": {},
          "execution_count": 30
        }
      ]
    },
    {
      "cell_type": "markdown",
      "source": [
        ".symmetric_difference() does not allow multiple sets"
      ],
      "metadata": {
        "id": "A8G7iJ3ci1J0"
      }
    },
    {
      "cell_type": "code",
      "source": [
        "# isdisjoint\n",
        "a.isdisjoint(b)"
      ],
      "metadata": {
        "colab": {
          "base_uri": "https://localhost:8080/"
        },
        "id": "lpzFWhN4ikc1",
        "outputId": "4faf6b54-491d-4bd9-c5c4-6ced59185ac4"
      },
      "execution_count": 33,
      "outputs": [
        {
          "output_type": "execute_result",
          "data": {
            "text/plain": [
              "False"
            ]
          },
          "metadata": {},
          "execution_count": 33
        }
      ]
    },
    {
      "cell_type": "markdown",
      "source": [
        "determines whether or not two sets have any elements in common"
      ],
      "metadata": {
        "id": "S5xQU8QXjBmL"
      }
    },
    {
      "cell_type": "code",
      "source": [
        "a - {1}"
      ],
      "metadata": {
        "colab": {
          "base_uri": "https://localhost:8080/"
        },
        "id": "rx8B-BcJjTr6",
        "outputId": "7445d8bc-6709-468d-ad67-761767317855"
      },
      "execution_count": 34,
      "outputs": [
        {
          "output_type": "execute_result",
          "data": {
            "text/plain": [
              "{2, 3, 4}"
            ]
          },
          "metadata": {},
          "execution_count": 34
        }
      ]
    },
    {
      "cell_type": "code",
      "source": [
        "b.isdisjoint(a-{2})"
      ],
      "metadata": {
        "colab": {
          "base_uri": "https://localhost:8080/"
        },
        "id": "rtPItnPzjc09",
        "outputId": "619c2bf6-aed8-4cea-ad19-1bc618ab8d6e"
      },
      "execution_count": 36,
      "outputs": [
        {
          "output_type": "execute_result",
          "data": {
            "text/plain": [
              "False"
            ]
          },
          "metadata": {},
          "execution_count": 36
        }
      ]
    },
    {
      "cell_type": "code",
      "source": [
        "x1 = {1,3,5}\n",
        "x2 = {2,4,6}\n",
        "x1.isdisjoint(x2)"
      ],
      "metadata": {
        "colab": {
          "base_uri": "https://localhost:8080/"
        },
        "id": "EL7XPOUZjj3g",
        "outputId": "0b62ff09-7ad0-4052-dbda-ef8e73190a48"
      },
      "execution_count": 37,
      "outputs": [
        {
          "output_type": "execute_result",
          "data": {
            "text/plain": [
              "True"
            ]
          },
          "metadata": {},
          "execution_count": 37
        }
      ]
    },
    {
      "cell_type": "code",
      "source": [
        "x1 & x2"
      ],
      "metadata": {
        "colab": {
          "base_uri": "https://localhost:8080/"
        },
        "id": "_yi52d-6jzqK",
        "outputId": "24c0726e-2c51-4a6a-88bf-791a532a1a38"
      },
      "execution_count": 38,
      "outputs": [
        {
          "output_type": "execute_result",
          "data": {
            "text/plain": [
              "set()"
            ]
          },
          "metadata": {},
          "execution_count": 38
        }
      ]
    },
    {
      "cell_type": "code",
      "source": [
        "# Subset\n",
        "U = {1,2,3,4,5,6,7,8,9}\n",
        "x1.issubset(U)"
      ],
      "metadata": {
        "colab": {
          "base_uri": "https://localhost:8080/"
        },
        "id": "8aTe7x99j1wU",
        "outputId": "a8a68384-db51-4471-e3c7-06168d74d02e"
      },
      "execution_count": 39,
      "outputs": [
        {
          "output_type": "execute_result",
          "data": {
            "text/plain": [
              "True"
            ]
          },
          "metadata": {},
          "execution_count": 39
        }
      ]
    },
    {
      "cell_type": "code",
      "source": [
        "U.issubset(U)"
      ],
      "metadata": {
        "colab": {
          "base_uri": "https://localhost:8080/"
        },
        "id": "3iAk1IxFkFC6",
        "outputId": "7bc036de-6cc1-4826-fe29-827b425ab4ae"
      },
      "execution_count": 40,
      "outputs": [
        {
          "output_type": "execute_result",
          "data": {
            "text/plain": [
              "True"
            ]
          },
          "metadata": {},
          "execution_count": 40
        }
      ]
    },
    {
      "cell_type": "code",
      "source": [
        "x2 <= U"
      ],
      "metadata": {
        "colab": {
          "base_uri": "https://localhost:8080/"
        },
        "id": "MqCckHZokKbC",
        "outputId": "054ee773-1473-4aa4-fca2-b14ff2d9ab5a"
      },
      "execution_count": 41,
      "outputs": [
        {
          "output_type": "execute_result",
          "data": {
            "text/plain": [
              "True"
            ]
          },
          "metadata": {},
          "execution_count": 41
        }
      ]
    },
    {
      "cell_type": "code",
      "source": [
        "# proper subset\n",
        "x1 = {'foo', 'bar'}\n",
        "x2 = {'foo', 'bar', 'baz'}\n",
        "x1 <  x2"
      ],
      "metadata": {
        "colab": {
          "base_uri": "https://localhost:8080/"
        },
        "id": "peupfdNgkUbF",
        "outputId": "b0ab4b07-44e6-4d1f-fec7-e3a221a426d7"
      },
      "execution_count": 42,
      "outputs": [
        {
          "output_type": "execute_result",
          "data": {
            "text/plain": [
              "True"
            ]
          },
          "metadata": {},
          "execution_count": 42
        }
      ]
    },
    {
      "cell_type": "code",
      "source": [
        "x1 = {'foo', 'bar', 'baz'}\n",
        "x2 = {'foo', 'bar', 'baz'}\n",
        "x1 < x2"
      ],
      "metadata": {
        "colab": {
          "base_uri": "https://localhost:8080/"
        },
        "id": "wGFg1IyBllQB",
        "outputId": "bc9c3b3a-ebd9-4630-c843-327aa17bea31"
      },
      "execution_count": 43,
      "outputs": [
        {
          "output_type": "execute_result",
          "data": {
            "text/plain": [
              "False"
            ]
          },
          "metadata": {},
          "execution_count": 43
        }
      ]
    },
    {
      "cell_type": "markdown",
      "source": [
        "A set is not a proper subset of itself but it is a subset of itself"
      ],
      "metadata": {
        "id": "VVRF9TkVlu8J"
      }
    },
    {
      "cell_type": "code",
      "source": [
        "# superset\n",
        "x1 = {'foo', 'bar', 'baz'}\n",
        "x1.issuperset({'foo', 'bar'})"
      ],
      "metadata": {
        "colab": {
          "base_uri": "https://localhost:8080/"
        },
        "id": "WiI8IKlQlsms",
        "outputId": "e01d7742-122a-4c2b-f25a-fa8ff75720e0"
      },
      "execution_count": 44,
      "outputs": [
        {
          "output_type": "execute_result",
          "data": {
            "text/plain": [
              "True"
            ]
          },
          "metadata": {},
          "execution_count": 44
        }
      ]
    },
    {
      "cell_type": "markdown",
      "source": [
        "if x1 contains every element of x2, then x1 is a superset of x2"
      ],
      "metadata": {
        "id": "u6gx-Xi2mw45"
      }
    },
    {
      "cell_type": "code",
      "source": [
        "x2 = {'bar', 'qux', 'quux'}\n",
        "x1 >= x2"
      ],
      "metadata": {
        "colab": {
          "base_uri": "https://localhost:8080/"
        },
        "id": "_bm0ctGTm7nZ",
        "outputId": "5ddaeabc-6bf3-404a-cbd5-d3fb3b1e6e15"
      },
      "execution_count": 45,
      "outputs": [
        {
          "output_type": "execute_result",
          "data": {
            "text/plain": [
              "False"
            ]
          },
          "metadata": {},
          "execution_count": 45
        }
      ]
    },
    {
      "cell_type": "code",
      "source": [
        "# proper superset\n",
        "x1 = {'foo', 'bar', 'baz'}\n",
        "x2 = {'foo', 'bar'}\n",
        "x1 > x2"
      ],
      "metadata": {
        "colab": {
          "base_uri": "https://localhost:8080/"
        },
        "id": "3ct3_9gonBfO",
        "outputId": "7e23267e-dc3d-4238-8fdb-9098c3f1c4ab"
      },
      "execution_count": 46,
      "outputs": [
        {
          "output_type": "execute_result",
          "data": {
            "text/plain": [
              "True"
            ]
          },
          "metadata": {},
          "execution_count": 46
        }
      ]
    },
    {
      "cell_type": "code",
      "source": [
        "x1 = {'foo', 'bar', 'baz'}\n",
        "x2 = {'foo', 'bar', 'baz'}\n",
        "x1 > x2"
      ],
      "metadata": {
        "colab": {
          "base_uri": "https://localhost:8080/"
        },
        "id": "Zmqmbm0enVWH",
        "outputId": "d6a759dd-3d2d-4b40-d5e0-7de58e81fcc4"
      },
      "execution_count": 47,
      "outputs": [
        {
          "output_type": "execute_result",
          "data": {
            "text/plain": [
              "False"
            ]
          },
          "metadata": {},
          "execution_count": 47
        }
      ]
    },
    {
      "cell_type": "code",
      "source": [
        "# Modifying a set\n",
        "# update\n",
        "x1 = {'foo', 'bar', 'baz'}\n",
        "x2 = {'foo', 'bar', 'qux'}\n",
        "\n",
        "x1 |= x2"
      ],
      "metadata": {
        "id": "SEBC_yR1nh4G"
      },
      "execution_count": 1,
      "outputs": []
    },
    {
      "cell_type": "code",
      "source": [
        "x1.update(['corge', 'garphly'])\n",
        "x1"
      ],
      "metadata": {
        "colab": {
          "base_uri": "https://localhost:8080/"
        },
        "id": "AvU_ab8eJjEQ",
        "outputId": "d6d0ddc5-0490-443d-aee0-17e0dd13179a"
      },
      "execution_count": 2,
      "outputs": [
        {
          "output_type": "execute_result",
          "data": {
            "text/plain": [
              "{'bar', 'baz', 'corge', 'foo', 'garphly', 'qux'}"
            ]
          },
          "metadata": {},
          "execution_count": 2
        }
      ]
    },
    {
      "cell_type": "code",
      "source": [
        "# intersection\n",
        "x1 = {'foo', 'bar', 'baz'}\n",
        "x2 = {'foo', 'bar', 'qux'}\n",
        "x1 &= x2\n",
        "x1"
      ],
      "metadata": {
        "colab": {
          "base_uri": "https://localhost:8080/"
        },
        "id": "SyYZFtqfJtZ3",
        "outputId": "51675034-5ed8-46b8-beea-504f497c8429"
      },
      "execution_count": 3,
      "outputs": [
        {
          "output_type": "execute_result",
          "data": {
            "text/plain": [
              "{'bar', 'foo'}"
            ]
          },
          "metadata": {},
          "execution_count": 3
        }
      ]
    },
    {
      "cell_type": "code",
      "source": [
        "x1.intersection('baz', 'qux')"
      ],
      "metadata": {
        "colab": {
          "base_uri": "https://localhost:8080/"
        },
        "id": "kWZK4phtJ67c",
        "outputId": "116a7b65-76aa-4a93-8149-36878998f09b"
      },
      "execution_count": 4,
      "outputs": [
        {
          "output_type": "execute_result",
          "data": {
            "text/plain": [
              "set()"
            ]
          },
          "metadata": {},
          "execution_count": 4
        }
      ]
    },
    {
      "cell_type": "code",
      "source": [
        "# difference_update\n",
        "x1 = {'foo', 'bar', 'baz'}\n",
        "x2 = {'foo', 'bar', 'qux'}\n",
        "x1 -= x2\n",
        "x1"
      ],
      "metadata": {
        "colab": {
          "base_uri": "https://localhost:8080/"
        },
        "id": "jbZVWXt7J_Zk",
        "outputId": "315095dc-7b2e-42c7-94e6-6940c1b8f0ce"
      },
      "execution_count": 5,
      "outputs": [
        {
          "output_type": "execute_result",
          "data": {
            "text/plain": [
              "{'baz'}"
            ]
          },
          "metadata": {},
          "execution_count": 5
        }
      ]
    },
    {
      "cell_type": "code",
      "source": [
        "x1.difference_update(['foo', 'bar', 'qux'])\n",
        "x1"
      ],
      "metadata": {
        "colab": {
          "base_uri": "https://localhost:8080/"
        },
        "id": "9g4-9uhAKBqr",
        "outputId": "7819e165-6051-4bea-809f-111842983090"
      },
      "execution_count": 6,
      "outputs": [
        {
          "output_type": "execute_result",
          "data": {
            "text/plain": [
              "{'baz'}"
            ]
          },
          "metadata": {},
          "execution_count": 6
        }
      ]
    },
    {
      "cell_type": "code",
      "source": [
        "# symmetric difference_update\n",
        "x1 = {'foo', 'bar', 'baz'}\n",
        "x2 = {'foo', 'bar', 'qux'}\n",
        "x1 ^= x2\n",
        "x1"
      ],
      "metadata": {
        "colab": {
          "base_uri": "https://localhost:8080/"
        },
        "id": "2MmQiVj7LST9",
        "outputId": "208443c6-aa68-43bf-e540-001b3766ce5b"
      },
      "execution_count": 7,
      "outputs": [
        {
          "output_type": "execute_result",
          "data": {
            "text/plain": [
              "{'baz', 'qux'}"
            ]
          },
          "metadata": {},
          "execution_count": 7
        }
      ]
    },
    {
      "cell_type": "code",
      "source": [
        "x1.symmetric_difference_update(['qux', 'corge'])\n",
        "x1"
      ],
      "metadata": {
        "id": "zrVo7fv8LeGc"
      },
      "execution_count": null,
      "outputs": []
    },
    {
      "cell_type": "code",
      "source": [
        "# Modifying sets\n",
        "# add\n",
        "x = {'foo', 'bar', 'baz'}\n",
        "x.add('qux')\n",
        "x"
      ],
      "metadata": {
        "id": "TPTBYcGRLmWY"
      },
      "execution_count": null,
      "outputs": []
    },
    {
      "cell_type": "code",
      "source": [
        "# remove\n",
        "x = {'foo', 'bar', 'baz'}\n",
        "x.remove('baz')"
      ],
      "metadata": {
        "id": "SVYu7AiIL5d_"
      },
      "execution_count": null,
      "outputs": []
    },
    {
      "cell_type": "code",
      "source": [
        "# discard\n",
        "x = {'foo', 'bar', 'baz'}\n",
        "x.discard('baz')\n",
        "x"
      ],
      "metadata": {
        "id": "nSgPe48_MHS2"
      },
      "execution_count": null,
      "outputs": []
    },
    {
      "cell_type": "code",
      "source": [
        "x = {'foo', 'bar', 'baz'}\n",
        "x.pop()"
      ],
      "metadata": {
        "id": "1nOvgMrHMQ-9"
      },
      "execution_count": null,
      "outputs": []
    },
    {
      "cell_type": "markdown",
      "source": [
        "removes and returns an arbitrarily element from x"
      ],
      "metadata": {
        "id": "f29wLETXMW1a"
      }
    },
    {
      "cell_type": "code",
      "source": [
        "x.pop()\n",
        "x"
      ],
      "metadata": {
        "id": "2CVIvgBaMeAE"
      },
      "execution_count": null,
      "outputs": []
    },
    {
      "cell_type": "code",
      "source": [
        "x = {'foo', 'bar', 'baz'}\n",
        "x.clear()\n",
        "x"
      ],
      "metadata": {
        "id": "0doCo8aXMh01"
      },
      "execution_count": null,
      "outputs": []
    },
    {
      "cell_type": "code",
      "source": [
        "# Frozen sets\n",
        "x = frozenset(['foo', 'bar', 'baz'])\n",
        "x"
      ],
      "metadata": {
        "id": "aMyqiJY7Mmg0"
      },
      "execution_count": null,
      "outputs": []
    },
    {
      "cell_type": "markdown",
      "source": [
        "Like a set but is immutable"
      ],
      "metadata": {
        "id": "8wxN4Yi7MrWA"
      }
    },
    {
      "cell_type": "code",
      "source": [
        "len(x)"
      ],
      "metadata": {
        "id": "LVQNzJJkM25W"
      },
      "execution_count": null,
      "outputs": []
    },
    {
      "cell_type": "code",
      "source": [
        "x & {'baz', 'qux', 'quux'}\n",
        "frozenset({'baz'})"
      ],
      "metadata": {
        "id": "oAvHiJ8zM4yJ"
      },
      "execution_count": null,
      "outputs": []
    },
    {
      "cell_type": "markdown",
      "source": [
        "Methods that attempt to modify a frozen set fail"
      ],
      "metadata": {
        "id": "k0QQvDlzNDyZ"
      }
    }
  ]
}