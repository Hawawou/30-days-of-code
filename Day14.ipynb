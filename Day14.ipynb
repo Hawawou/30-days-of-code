{
  "nbformat": 4,
  "nbformat_minor": 0,
  "metadata": {
    "colab": {
      "provenance": [],
      "collapsed_sections": [],
      "authorship_tag": "ABX9TyPQeEwfBKtHt3Zx58Pz5SRB",
      "include_colab_link": true
    },
    "kernelspec": {
      "name": "python3",
      "display_name": "Python 3"
    },
    "language_info": {
      "name": "python"
    }
  },
  "cells": [
    {
      "cell_type": "markdown",
      "metadata": {
        "id": "view-in-github",
        "colab_type": "text"
      },
      "source": [
        "<a href=\"https://colab.research.google.com/github/Hawawou/30-days-of-code/blob/main/Day14.ipynb\" target=\"_parent\"><img src=\"https://colab.research.google.com/assets/colab-badge.svg\" alt=\"Open In Colab\"/></a>"
      ]
    },
    {
      "cell_type": "markdown",
      "source": [
        "Defining and calling functions"
      ],
      "metadata": {
        "id": "lF2pDOfvW1yD"
      }
    },
    {
      "cell_type": "code",
      "execution_count": 1,
      "metadata": {
        "id": "yfF6VvnIWxnG",
        "colab": {
          "base_uri": "https://localhost:8080/"
        },
        "outputId": "abe28ad2-d49a-4056-dc97-836fa75d7e85"
      },
      "outputs": [
        {
          "output_type": "stream",
          "name": "stdout",
          "text": [
            "Before calling f()\n",
            "-- Inside f()\n",
            "After calling\n"
          ]
        }
      ],
      "source": [
        "def f():\n",
        "  s  = '-- Inside f()'\n",
        "  print(s)\n",
        "\n",
        "print('Before calling f()')\n",
        "f()\n",
        "print('After calling')"
      ]
    },
    {
      "cell_type": "code",
      "source": [
        "def greetings(name):\n",
        "  print (f'Hello {name}')\n",
        "greetings('Hawa')"
      ],
      "metadata": {
        "colab": {
          "base_uri": "https://localhost:8080/"
        },
        "id": "tVO9v0mJd0TZ",
        "outputId": "f9a904eb-c5ae-48bc-99b0-fab4aa0da9ef"
      },
      "execution_count": 2,
      "outputs": [
        {
          "output_type": "stream",
          "name": "stdout",
          "text": [
            "Hello Hawa\n"
          ]
        }
      ]
    },
    {
      "cell_type": "markdown",
      "source": [
        "number of parameters must match number of arguments"
      ],
      "metadata": {
        "id": "l7iZ48cFd7Gf"
      }
    },
    {
      "cell_type": "code",
      "source": [
        "# keywords arguments\n",
        "greetings(name='Reine')"
      ],
      "metadata": {
        "colab": {
          "base_uri": "https://localhost:8080/"
        },
        "id": "WLGSd35nd5G-",
        "outputId": "19659300-f447-4e07-bf9e-82c191feb12f"
      },
      "execution_count": 3,
      "outputs": [
        {
          "output_type": "stream",
          "name": "stdout",
          "text": [
            "Hello Reine\n"
          ]
        }
      ]
    },
    {
      "cell_type": "code",
      "source": [
        "# by pass value s by pass reference\n",
        "def f(fx):\n",
        "  fx = 10\n",
        "\n",
        "x = 5\n",
        "f(x)"
      ],
      "metadata": {
        "id": "qQMN9h8JeHz_"
      },
      "execution_count": 4,
      "outputs": []
    },
    {
      "cell_type": "code",
      "source": [
        "def f(x):\n",
        "  x = 'foo'\n",
        "\n",
        "for i in (\n",
        "    40,\n",
        "    dict(foo=1, bar=2),\n",
        "    {1,2,3},\n",
        "    ['foo', 'bar', 'baz']):\n",
        "  f(i)\n",
        "  print(i)"
      ],
      "metadata": {
        "colab": {
          "base_uri": "https://localhost:8080/"
        },
        "id": "hZKmVchLeVJ9",
        "outputId": "a27a68d2-b442-4035-b012-260f8ba6b6f6"
      },
      "execution_count": 10,
      "outputs": [
        {
          "output_type": "stream",
          "name": "stdout",
          "text": [
            "40\n",
            "{'foo': 1, 'bar': 2}\n",
            "{1, 2, 3}\n",
            "['foo', 'bar', 'baz']\n"
          ]
        }
      ]
    },
    {
      "cell_type": "code",
      "source": [
        "# return statement\n",
        "def hello():\n",
        "  print('good morning')\n",
        "  print('have a nice day!')\n",
        "  return\n",
        "\n",
        "hello()"
      ],
      "metadata": {
        "colab": {
          "base_uri": "https://localhost:8080/"
        },
        "id": "FgL-jjWGfHNH",
        "outputId": "5d084940-5137-4eff-d300-0a24cabcf5ad"
      },
      "execution_count": 6,
      "outputs": [
        {
          "output_type": "stream",
          "name": "stdout",
          "text": [
            "good morning\n",
            "have a nice day!\n"
          ]
        }
      ]
    },
    {
      "cell_type": "code",
      "source": [
        "def f(x):\n",
        "  if x < 0:\n",
        "    return \n",
        "  if x > 100:\n",
        "    return \n",
        "  print(x)\n",
        "\n",
        "f(-23)\n",
        "f(182)\n",
        "f(67)"
      ],
      "metadata": {
        "colab": {
          "base_uri": "https://localhost:8080/"
        },
        "id": "5IgYc5atfN0x",
        "outputId": "4dc17a34-9144-4d41-d8ec-288d001e600d"
      },
      "execution_count": 7,
      "outputs": [
        {
          "output_type": "stream",
          "name": "stdout",
          "text": [
            "67\n"
          ]
        }
      ]
    },
    {
      "cell_type": "markdown",
      "source": [
        "return statement must not be at the end of the statement"
      ],
      "metadata": {
        "id": "zOHnAwbZfXgs"
      }
    },
    {
      "cell_type": "code",
      "source": [
        "#returning data to the caller\n",
        "def f():\n",
        "  return 'foo'\n",
        "\n",
        "s = f()\n",
        "s"
      ],
      "metadata": {
        "colab": {
          "base_uri": "https://localhost:8080/",
          "height": 35
        },
        "id": "mKFiA6N0fc0X",
        "outputId": "df8ff1ae-5ca4-4709-83be-c35e4c4ea032"
      },
      "execution_count": 8,
      "outputs": [
        {
          "output_type": "execute_result",
          "data": {
            "text/plain": [
              "'foo'"
            ],
            "application/vnd.google.colaboratory.intrinsic+json": {
              "type": "string"
            }
          },
          "metadata": {},
          "execution_count": 8
        }
      ]
    },
    {
      "cell_type": "code",
      "source": [
        "def exa():\n",
        "  return dict(foo=1, bar=2, baz=3)\n",
        "\n",
        "exa()"
      ],
      "metadata": {
        "colab": {
          "base_uri": "https://localhost:8080/"
        },
        "id": "VNfINH2Yfgjq",
        "outputId": "df239142-d16d-4609-8f7d-27dee9a3a613"
      },
      "execution_count": 11,
      "outputs": [
        {
          "output_type": "execute_result",
          "data": {
            "text/plain": [
              "{'foo': 1, 'bar': 2, 'baz': 3}"
            ]
          },
          "metadata": {},
          "execution_count": 11
        }
      ]
    },
    {
      "cell_type": "markdown",
      "source": [
        "a function can return any kind of object"
      ],
      "metadata": {
        "id": "lJ0SIJEPflL7"
      }
    },
    {
      "cell_type": "code",
      "source": [
        "def f():\n",
        "  return 'foobar'\n",
        "\n",
        "f()[3:5]"
      ],
      "metadata": {
        "colab": {
          "base_uri": "https://localhost:8080/",
          "height": 35
        },
        "id": "DmZtLydSfpCJ",
        "outputId": "5810eee3-13b6-4f88-d3fe-3ca558ef78da"
      },
      "execution_count": 13,
      "outputs": [
        {
          "output_type": "execute_result",
          "data": {
            "text/plain": [
              "'ba'"
            ],
            "application/vnd.google.colaboratory.intrinsic+json": {
              "type": "string"
            }
          },
          "metadata": {},
          "execution_count": 13
        }
      ]
    },
    {
      "cell_type": "code",
      "source": [
        "def g():\n",
        "  pass\n",
        "print(g())"
      ],
      "metadata": {
        "colab": {
          "base_uri": "https://localhost:8080/"
        },
        "id": "ZTIMHEWFgLTA",
        "outputId": "5810e3c2-beb7-422e-808d-04690d891f9a"
      },
      "execution_count": 14,
      "outputs": [
        {
          "output_type": "stream",
          "name": "stdout",
          "text": [
            "None\n"
          ]
        }
      ]
    },
    {
      "cell_type": "code",
      "source": [
        "def double(num):\n",
        "  return num * 2\n",
        "\n",
        "double(50)"
      ],
      "metadata": {
        "colab": {
          "base_uri": "https://localhost:8080/"
        },
        "id": "x-fzndWmgW2L",
        "outputId": "98937484-8fb4-4f27-d829-56eb5ac7caf4"
      },
      "execution_count": 16,
      "outputs": [
        {
          "output_type": "execute_result",
          "data": {
            "text/plain": [
              "100"
            ]
          },
          "metadata": {},
          "execution_count": 16
        }
      ]
    },
    {
      "cell_type": "code",
      "source": [
        "def double_list(x):\n",
        "  i = 0\n",
        "  while i < len(x):\n",
        "    x[i] *= 2\n",
        "    i += 1\n",
        "\n",
        "a = [2,4,6,8]\n",
        "double_list(a)\n",
        "a"
      ],
      "metadata": {
        "colab": {
          "base_uri": "https://localhost:8080/"
        },
        "id": "4sEUifrHgvA8",
        "outputId": "eedee121-7dda-47af-ad4a-6a49bdb9827a"
      },
      "execution_count": 18,
      "outputs": [
        {
          "output_type": "execute_result",
          "data": {
            "text/plain": [
              "[4, 8, 12, 16]"
            ]
          },
          "metadata": {},
          "execution_count": 18
        }
      ]
    },
    {
      "cell_type": "code",
      "source": [
        "#variable-length\n",
        "def avg(a, b, c):\n",
        "  return (a + b + c)/3\n",
        "\n",
        "avg(6,8,7)"
      ],
      "metadata": {
        "colab": {
          "base_uri": "https://localhost:8080/"
        },
        "id": "eERni_hsgz2p",
        "outputId": "57411adf-bf8b-403e-a1d7-6cab486d975e"
      },
      "execution_count": 19,
      "outputs": [
        {
          "output_type": "execute_result",
          "data": {
            "text/plain": [
              "7.0"
            ]
          },
          "metadata": {},
          "execution_count": 19
        }
      ]
    },
    {
      "cell_type": "code",
      "source": [
        "def avg(a):\n",
        "  total = 0\n",
        "  for i in a:\n",
        "    total += i\n",
        "  return total/ len(a)\n",
        "\n",
        "avg([2,3,4])"
      ],
      "metadata": {
        "colab": {
          "base_uri": "https://localhost:8080/"
        },
        "id": "INpviGrOg-T9",
        "outputId": "4abe379e-3709-45ca-ad2e-176bb0bd3ca7"
      },
      "execution_count": 20,
      "outputs": [
        {
          "output_type": "execute_result",
          "data": {
            "text/plain": [
              "3.0"
            ]
          },
          "metadata": {},
          "execution_count": 20
        }
      ]
    },
    {
      "cell_type": "code",
      "source": [
        "#argument tuple packing\n",
        "#*indicates tuple packing \n",
        "def f(*args):\n",
        "  print(args)\n",
        "  print(type(args), len(args))\n",
        "  for x in args:\n",
        "    print (x)\n",
        "\n",
        "f(1, 2, 3)"
      ],
      "metadata": {
        "colab": {
          "base_uri": "https://localhost:8080/"
        },
        "id": "dentPbNchGtu",
        "outputId": "b139bdcc-0f0e-4774-996b-8bf0b590e42f"
      },
      "execution_count": 21,
      "outputs": [
        {
          "output_type": "stream",
          "name": "stdout",
          "text": [
            "(1, 2, 3)\n",
            "<class 'tuple'> 3\n",
            "1\n",
            "2\n",
            "3\n"
          ]
        }
      ]
    },
    {
      "cell_type": "code",
      "source": [
        "def avg(*args):\n",
        "  return sum(args)/ len(args)\n",
        "\n",
        "avg(9,8,0)"
      ],
      "metadata": {
        "colab": {
          "base_uri": "https://localhost:8080/"
        },
        "id": "OtRYr9BtiLXD",
        "outputId": "079bf43c-bfb7-4a0a-9823-811bbd8a3581"
      },
      "execution_count": 22,
      "outputs": [
        {
          "output_type": "execute_result",
          "data": {
            "text/plain": [
              "5.666666666666667"
            ]
          },
          "metadata": {},
          "execution_count": 22
        }
      ]
    },
    {
      "cell_type": "code",
      "source": [
        "# argument tuple unpacking\n",
        "def f(*args):\n",
        "  print(type(args), args)\n",
        "\n",
        "a = ['foo', 'bar', 'baz']\n",
        "f(*a)"
      ],
      "metadata": {
        "colab": {
          "base_uri": "https://localhost:8080/"
        },
        "id": "wJKNQLwViQhT",
        "outputId": "4521dd48-135c-4539-fa1b-c611d7fb30ad"
      },
      "execution_count": 23,
      "outputs": [
        {
          "output_type": "stream",
          "name": "stdout",
          "text": [
            "<class 'tuple'> ('foo', 'bar', 'baz')\n"
          ]
        }
      ]
    },
    {
      "cell_type": "code",
      "source": [
        "#argument dictionary packing\n",
        "def f(**kwargs):\n",
        "     print(kwargs)\n",
        "     print(type(kwargs))\n",
        "     for key, val in kwargs.items():\n",
        "            print(key, '->', val)\n",
        "\n",
        "f(foo=1, bar=2, baz=3)"
      ],
      "metadata": {
        "colab": {
          "base_uri": "https://localhost:8080/"
        },
        "id": "Z46KaRreiZMH",
        "outputId": "7d63523e-8cda-4fc7-a4b2-4aa396d2af5b"
      },
      "execution_count": 24,
      "outputs": [
        {
          "output_type": "stream",
          "name": "stdout",
          "text": [
            "{'foo': 1, 'bar': 2, 'baz': 3}\n",
            "<class 'dict'>\n",
            "foo -> 1\n",
            "bar -> 2\n",
            "baz -> 3\n"
          ]
        }
      ]
    },
    {
      "cell_type": "code",
      "source": [
        "#dictionary unpacking\n",
        "def f(x,y,z):\n",
        "  print(F'x = {x}')\n",
        "  print(F'y = {y}')\n",
        "  print(F'z = {z}')\n",
        "\n",
        "d = {'x': 'foo', 'y': 56, 'z': 'ghj'}\n",
        "f(**d)"
      ],
      "metadata": {
        "colab": {
          "base_uri": "https://localhost:8080/"
        },
        "id": "Q8citedEieiW",
        "outputId": "4f9513f6-b22b-4081-e95c-1cb8df8618e5"
      },
      "execution_count": 25,
      "outputs": [
        {
          "output_type": "stream",
          "name": "stdout",
          "text": [
            "x = foo\n",
            "y = 56\n",
            "z = ghj\n"
          ]
        }
      ]
    },
    {
      "cell_type": "code",
      "source": [
        "#mnultiple unpackings in python\n",
        "def f(*args):\n",
        "  for i in args:\n",
        "    print(i)\n",
        "\n",
        "a =[1,2,3]\n",
        "b =(4,5,6)\n",
        "s ={7,8,9}\n",
        "\n",
        "f(*a,*b,*s)"
      ],
      "metadata": {
        "colab": {
          "base_uri": "https://localhost:8080/"
        },
        "id": "Qo8V0eYoihOx",
        "outputId": "0e8ea3ba-28e0-4a73-c21e-e18b4c5866bc"
      },
      "execution_count": 26,
      "outputs": [
        {
          "output_type": "stream",
          "name": "stdout",
          "text": [
            "1\n",
            "2\n",
            "3\n",
            "4\n",
            "5\n",
            "6\n",
            "8\n",
            "9\n",
            "7\n"
          ]
        }
      ]
    },
    {
      "cell_type": "code",
      "source": [
        "# keyword only argument\n",
        "def concat(*args):\n",
        "  print(f'-> {\".\".join(args)}')\n",
        "\n",
        "concat('A','S','C','I','I')"
      ],
      "metadata": {
        "colab": {
          "base_uri": "https://localhost:8080/"
        },
        "id": "PEXIBGNnijpv",
        "outputId": "eaa7ba2f-6846-4234-cddb-743020bb7c43"
      },
      "execution_count": 27,
      "outputs": [
        {
          "output_type": "stream",
          "name": "stdout",
          "text": [
            "-> A.S.C.I.I\n"
          ]
        }
      ]
    },
    {
      "cell_type": "code",
      "source": [
        "def concat(*args, prefix='->', sep='.'):\n",
        "  print(f'{prefix}{sep.join(args)}')\n",
        "\n",
        "concat('a', 'b', 'c')"
      ],
      "metadata": {
        "colab": {
          "base_uri": "https://localhost:8080/"
        },
        "id": "hOOqyT0BioPc",
        "outputId": "47b3db28-09f1-40fc-e509-1d1e2bff69a7"
      },
      "execution_count": 28,
      "outputs": [
        {
          "output_type": "stream",
          "name": "stdout",
          "text": [
            "->a.b.c\n"
          ]
        }
      ]
    },
    {
      "cell_type": "code",
      "source": [
        "def oper(x,y, op='+'): # + is the default value\n",
        "  if op == '+':\n",
        "    return x + y\n",
        "  elif op == '-':\n",
        "    return x - y\n",
        "  elif op == '/':\n",
        "    return x/y\n",
        "  else:\n",
        "    return None\n",
        "\n",
        "oper(4,8,)"
      ],
      "metadata": {
        "colab": {
          "base_uri": "https://localhost:8080/"
        },
        "id": "tNjP8KsRiqJf",
        "outputId": "fecc4c71-5e98-4c1b-8087-5b60df915ca3"
      },
      "execution_count": 29,
      "outputs": [
        {
          "output_type": "execute_result",
          "data": {
            "text/plain": [
              "12"
            ]
          },
          "metadata": {},
          "execution_count": 29
        }
      ]
    },
    {
      "cell_type": "code",
      "source": [
        "#positional-only argument(corresponding arguments must be supplied positionally)\n",
        "def f(x, y, z):\n",
        "    print(f'x: {x}')\n",
        "    print(f'y: {y}')\n",
        "    print(f'z: {z}')\n",
        "\n",
        "f(2,4,6)"
      ],
      "metadata": {
        "id": "AmwhFlgsiska"
      },
      "execution_count": null,
      "outputs": []
    },
    {
      "cell_type": "code",
      "source": [
        "#docstring- used to suppky documentation for a function\n",
        "def avg(*avg):\n",
        "  \"\"\"Returns the average of a list of numeric values. \"\"\"\n",
        "  return sum(args) / len(args)"
      ],
      "metadata": {
        "id": "RB384ANajtIf"
      },
      "execution_count": 33,
      "outputs": []
    },
    {
      "cell_type": "code",
      "source": [
        "#multi line docstrings\n",
        "def foo(bar=0, baz=1):\n",
        "  \"\"\"Perform a foo transformation\n",
        "\n",
        "  Keyword  arguments:\n",
        "  bar - magnitude along the bar axis default = 0\n",
        "  \"\"\""
      ],
      "metadata": {
        "id": "a6HgQiIVjuTT"
      },
      "execution_count": 32,
      "outputs": []
    },
    {
      "cell_type": "code",
      "source": [
        "help(avg)"
      ],
      "metadata": {
        "colab": {
          "base_uri": "https://localhost:8080/"
        },
        "id": "IVgGMranjyHl",
        "outputId": "ad2e1e94-c27f-41b6-e1ba-bdb50f47a57c"
      },
      "execution_count": 34,
      "outputs": [
        {
          "output_type": "stream",
          "name": "stdout",
          "text": [
            "Help on function avg in module __main__:\n",
            "\n",
            "avg(*avg)\n",
            "    Returns the average of a list of numeric values.\n",
            "\n"
          ]
        }
      ]
    },
    {
      "cell_type": "code",
      "source": [
        "#python function annotations\n",
        "def f(a: int, b:str) -> float:\n",
        "  print(a,b)\n",
        "  return(3.5)\n",
        "\n",
        "f(1, 'foo')"
      ],
      "metadata": {
        "colab": {
          "base_uri": "https://localhost:8080/"
        },
        "id": "FL3f71LMkFVN",
        "outputId": "4b538424-7dcc-4d80-8c02-0631a9529c16"
      },
      "execution_count": 35,
      "outputs": [
        {
          "output_type": "stream",
          "name": "stdout",
          "text": [
            "1 foo\n"
          ]
        },
        {
          "output_type": "execute_result",
          "data": {
            "text/plain": [
              "3.5"
            ]
          },
          "metadata": {},
          "execution_count": 35
        }
      ]
    },
    {
      "cell_type": "markdown",
      "source": [
        "attach metadata to a function's parameter and return value"
      ],
      "metadata": {
        "id": "Mjlr0sfvkMIU"
      }
    },
    {
      "cell_type": "code",
      "source": [
        "#can also be a composite object\n",
        "def area(\n",
        "    r: {\n",
        "        'desc': 'radius of circle',\n",
        "        'type': float\n",
        "        }\n",
        ") -> \\\n",
        "{\n",
        "    'desc': 'area of cirle',\n",
        "    'type': 'float'\n",
        "}:\n",
        "  return 3.14159 * (r ** 2)\n",
        "area(2.5)\n",
        "area.__annotations__"
      ],
      "metadata": {
        "colab": {
          "base_uri": "https://localhost:8080/"
        },
        "id": "ehGeabqRkJ9z",
        "outputId": "f8ca8600-e3eb-4491-bad9-eb4dfc95e31e"
      },
      "execution_count": 36,
      "outputs": [
        {
          "output_type": "execute_result",
          "data": {
            "text/plain": [
              "{'r': {'desc': 'radius of circle', 'type': float},\n",
              " 'return': {'desc': 'area of cirle', 'type': 'float'}}"
            ]
          },
          "metadata": {},
          "execution_count": 36
        }
      ]
    },
    {
      "cell_type": "code",
      "source": [
        "def f(a: int, b: str) -> float:\n",
        "  print(a, b)\n",
        "  return 1, 2, 3\n",
        "\n",
        "f('hey', 23)"
      ],
      "metadata": {
        "colab": {
          "base_uri": "https://localhost:8080/"
        },
        "id": "cu498hXTkUSV",
        "outputId": "91758ee5-fa72-4f78-b8ed-f0d42ed138a2"
      },
      "execution_count": 37,
      "outputs": [
        {
          "output_type": "stream",
          "name": "stdout",
          "text": [
            "hey 23\n"
          ]
        },
        {
          "output_type": "execute_result",
          "data": {
            "text/plain": [
              "(1, 2, 3)"
            ]
          },
          "metadata": {},
          "execution_count": 37
        }
      ]
    },
    {
      "cell_type": "code",
      "source": [],
      "metadata": {
        "id": "viIblYStkYL0"
      },
      "execution_count": null,
      "outputs": []
    }
  ]
}