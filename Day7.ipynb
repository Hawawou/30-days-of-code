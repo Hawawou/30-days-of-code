{
  "nbformat": 4,
  "nbformat_minor": 0,
  "metadata": {
    "colab": {
      "provenance": [],
      "authorship_tag": "ABX9TyMm1wHPmxDmM4Jd79Tell0i",
      "include_colab_link": true
    },
    "kernelspec": {
      "name": "python3",
      "display_name": "Python 3"
    },
    "language_info": {
      "name": "python"
    }
  },
  "cells": [
    {
      "cell_type": "markdown",
      "metadata": {
        "id": "view-in-github",
        "colab_type": "text"
      },
      "source": [
        "<a href=\"https://colab.research.google.com/github/Hawawou/30-days-of-code/blob/main/Day7.ipynb\" target=\"_parent\"><img src=\"https://colab.research.google.com/assets/colab-badge.svg\" alt=\"Open In Colab\"/></a>"
      ]
    },
    {
      "cell_type": "code",
      "execution_count": null,
      "metadata": {
        "colab": {
          "base_uri": "https://localhost:8080/"
        },
        "id": "yeSWR1JFeXJ4",
        "outputId": "5f68b5ce-024e-4beb-d271-18a134ae7657"
      },
      "outputs": [
        {
          "output_type": "execute_result",
          "data": {
            "text/plain": [
              "{'Colorado': 'Rockies',\n",
              " 'Boston': 'Red Sox',\n",
              " 'Minnesota': 'Twins',\n",
              " 'Milwauke': 'Mariners'}"
            ]
          },
          "metadata": {},
          "execution_count": 2
        }
      ],
      "source": [
        "# Dictionaries\n",
        "MLB_team = {\n",
        "    'Colorado' : 'Rockies',\n",
        "    'Boston'   : 'Red Sox',\n",
        "    'Minnesota': 'Twins',\n",
        "    'Milwauke' : 'Mariners'\n",
        "}\n",
        "MLB_team"
      ]
    },
    {
      "cell_type": "markdown",
      "source": [
        "Accessed via keys"
      ],
      "metadata": {
        "id": "elyZOzQie0Io"
      }
    },
    {
      "cell_type": "code",
      "source": [
        "MLB_team = dict([\n",
        "    ('Colorado', 'Rockies'),\n",
        "    ('Boston', 'Red Sox'),\n",
        "    ('Minessota', 'Twins'),\n",
        "    ('Seattle', 'Mariners')\n",
        "])\n",
        "MLB_team "
      ],
      "metadata": {
        "colab": {
          "base_uri": "https://localhost:8080/"
        },
        "id": "8eQCuEkRfb5z",
        "outputId": "e4bb3a88-8cfc-4e28-b4c7-8fc02349a8dd"
      },
      "execution_count": null,
      "outputs": [
        {
          "output_type": "execute_result",
          "data": {
            "text/plain": [
              "{'Colorado': 'Rockies',\n",
              " 'Boston': 'Red Sox',\n",
              " 'Minessota': 'Twins',\n",
              " 'Seattle': 'Mariners'}"
            ]
          },
          "metadata": {},
          "execution_count": 3
        }
      ]
    },
    {
      "cell_type": "code",
      "source": [
        "MLB_team = dict(\n",
        "    Colorado = 'Rockies',\n",
        "    Boston = 'Red sox',\n",
        "    Minnesota = 'Twins',\n",
        "    Seattle = 'Mariners'\n",
        ")\n",
        "MLB_team"
      ],
      "metadata": {
        "colab": {
          "base_uri": "https://localhost:8080/"
        },
        "id": "c_nUpA1vgJ9s",
        "outputId": "cb4b96ac-448d-4362-c14f-5e70b94ec92f"
      },
      "execution_count": null,
      "outputs": [
        {
          "output_type": "execute_result",
          "data": {
            "text/plain": [
              "{'Colorado': 'Rockies',\n",
              " 'Boston': 'Red sox',\n",
              " 'Minnesota': 'Twins',\n",
              " 'Seattle': 'Mariners'}"
            ]
          },
          "metadata": {},
          "execution_count": 4
        }
      ]
    },
    {
      "cell_type": "code",
      "source": [
        "# Accessing Dictionary values\n",
        "MLB_team['Seattle']"
      ],
      "metadata": {
        "colab": {
          "base_uri": "https://localhost:8080/"
        },
        "id": "UhJWUjn_gbBs",
        "outputId": "0abaddc3-8c2e-4dbf-ae0d-2ba9e95df6ae"
      },
      "execution_count": null,
      "outputs": [
        {
          "output_type": "execute_result",
          "data": {
            "text/plain": [
              "'Mariners'"
            ],
            "application/vnd.google.colaboratory.intrinsic+json": {
              "type": "string"
            }
          },
          "metadata": {},
          "execution_count": 7
        }
      ]
    },
    {
      "cell_type": "code",
      "source": [
        "MLB_team['Colorado']"
      ],
      "metadata": {
        "colab": {
          "base_uri": "https://localhost:8080/"
        },
        "id": "Kqk7Lvp0gnc5",
        "outputId": "122d12da-35de-4385-86db-d3cd35cd7fa1"
      },
      "execution_count": null,
      "outputs": [
        {
          "output_type": "execute_result",
          "data": {
            "text/plain": [
              "'Rockies'"
            ],
            "application/vnd.google.colaboratory.intrinsic+json": {
              "type": "string"
            }
          },
          "metadata": {},
          "execution_count": 9
        }
      ]
    },
    {
      "cell_type": "code",
      "source": [
        "# Adding enteries\n",
        "MLB_team['Kansas City'] = 'Royals'\n",
        "MLB_team"
      ],
      "metadata": {
        "id": "47_IR0PUgv-f",
        "colab": {
          "base_uri": "https://localhost:8080/"
        },
        "outputId": "4fb26390-816d-42c5-97d6-ea056e1a724d"
      },
      "execution_count": null,
      "outputs": [
        {
          "output_type": "execute_result",
          "data": {
            "text/plain": [
              "{'Colorado': 'Rockies',\n",
              " 'Boston': 'Red sox',\n",
              " 'Minnesota': 'Twins',\n",
              " 'Seattle': 'Mariners',\n",
              " 'Kansas City': 'Royals'}"
            ]
          },
          "metadata": {},
          "execution_count": 8
        }
      ]
    },
    {
      "cell_type": "code",
      "source": [
        "# UUpdate an entry\n",
        "MLB_team['Seattle'] = 'Seahawks'\n",
        "MLB_team"
      ],
      "metadata": {
        "colab": {
          "base_uri": "https://localhost:8080/"
        },
        "id": "MuV3nZrlhToo",
        "outputId": "6989f2bd-06f0-486c-8a2b-bc0f1ea59a33"
      },
      "execution_count": null,
      "outputs": [
        {
          "output_type": "execute_result",
          "data": {
            "text/plain": [
              "{'Colorado': 'Rockies',\n",
              " 'Boston': 'Red sox',\n",
              " 'Minnesota': 'Twins',\n",
              " 'Seattle': 'Seahawks',\n",
              " 'Kansas City': 'Royals'}"
            ]
          },
          "metadata": {},
          "execution_count": 10
        }
      ]
    },
    {
      "cell_type": "code",
      "source": [
        "# Delete an entry\n",
        "del MLB_team['Seattle']\n",
        "MLB_team"
      ],
      "metadata": {
        "colab": {
          "base_uri": "https://localhost:8080/"
        },
        "id": "K8jx8MudhhEh",
        "outputId": "1cd5b6f9-51ec-48a1-c935-9e135e27d133"
      },
      "execution_count": null,
      "outputs": [
        {
          "output_type": "execute_result",
          "data": {
            "text/plain": [
              "{'Colorado': 'Rockies',\n",
              " 'Boston': 'Red sox',\n",
              " 'Minnesota': 'Twins',\n",
              " 'Kansas City': 'Royals'}"
            ]
          },
          "metadata": {},
          "execution_count": 11
        }
      ]
    },
    {
      "cell_type": "code",
      "source": [
        "d = {0:'a', 1:'b', 2:'c', 3:'d'}\n",
        "d"
      ],
      "metadata": {
        "colab": {
          "base_uri": "https://localhost:8080/"
        },
        "id": "bA8fClGFhrRU",
        "outputId": "ec6464b7-4fb9-46cf-d33c-8a0b6e5386c9"
      },
      "execution_count": null,
      "outputs": [
        {
          "output_type": "execute_result",
          "data": {
            "text/plain": [
              "{0: 'a', 1: 'b', 2: 'c', 3: 'd'}"
            ]
          },
          "metadata": {},
          "execution_count": 12
        }
      ]
    },
    {
      "cell_type": "markdown",
      "source": [
        "An object of any immutable type can be used as a dictionary key"
      ],
      "metadata": {
        "id": "ZRIv1wzPh3xZ"
      }
    },
    {
      "cell_type": "code",
      "source": [
        "d[0]"
      ],
      "metadata": {
        "id": "QVr6JU_BiZOl"
      },
      "execution_count": null,
      "outputs": []
    },
    {
      "cell_type": "code",
      "source": [
        "# Building dictionary incrementally\n",
        "person = {}\n",
        "type(person)"
      ],
      "metadata": {
        "colab": {
          "base_uri": "https://localhost:8080/"
        },
        "id": "kpaJeO5diaYM",
        "outputId": "c53beb27-1d11-4380-fe97-dc6c68acd562"
      },
      "execution_count": 14,
      "outputs": [
        {
          "output_type": "execute_result",
          "data": {
            "text/plain": [
              "dict"
            ]
          },
          "metadata": {},
          "execution_count": 14
        }
      ]
    },
    {
      "cell_type": "code",
      "source": [
        "person['fname'] = 'Joe'\n",
        "person['lname'] = 'Fonebone'\n",
        "person['age'] = 30\n",
        "person['spouse'] = 'Edna'\n",
        "person['children'] = ['Ralph', 'Betty', 'Joey']\n",
        "person['pets'] = {'dog':'Fido', 'cat':'Sox'}\n",
        "person"
      ],
      "metadata": {
        "colab": {
          "base_uri": "https://localhost:8080/"
        },
        "id": "_XWcuN2cioVc",
        "outputId": "29a21b37-ed3e-479e-c2b7-decdda7b6ded"
      },
      "execution_count": 16,
      "outputs": [
        {
          "output_type": "execute_result",
          "data": {
            "text/plain": [
              "{'fname': 'Joe',\n",
              " 'lname': 'Fonebone',\n",
              " 'age': 30,\n",
              " 'spouse': 'Edna',\n",
              " 'children': ['Ralph', 'Betty', 'Joey'],\n",
              " 'pets': {'dog': 'Fido', 'cat': 'Sox'}}"
            ]
          },
          "metadata": {},
          "execution_count": 16
        }
      ]
    },
    {
      "cell_type": "code",
      "source": [
        "person['lname']"
      ],
      "metadata": {
        "colab": {
          "base_uri": "https://localhost:8080/",
          "height": 35
        },
        "id": "QJEKfAoUjLmX",
        "outputId": "43a4c02c-6876-485b-9e28-ac65cf905272"
      },
      "execution_count": 18,
      "outputs": [
        {
          "output_type": "execute_result",
          "data": {
            "text/plain": [
              "'Fonebone'"
            ],
            "application/vnd.google.colaboratory.intrinsic+json": {
              "type": "string"
            }
          },
          "metadata": {},
          "execution_count": 18
        }
      ]
    },
    {
      "cell_type": "code",
      "source": [
        "# retriving values in the sublist \n",
        "person['children'][-1]"
      ],
      "metadata": {
        "colab": {
          "base_uri": "https://localhost:8080/",
          "height": 35
        },
        "id": "p9w2Em4bjyUj",
        "outputId": "419c0c11-7f3e-4681-b3ad-7e28f28b514f"
      },
      "execution_count": 19,
      "outputs": [
        {
          "output_type": "execute_result",
          "data": {
            "text/plain": [
              "'Joey'"
            ],
            "application/vnd.google.colaboratory.intrinsic+json": {
              "type": "string"
            }
          },
          "metadata": {},
          "execution_count": 19
        }
      ]
    },
    {
      "cell_type": "code",
      "source": [
        "person['pets']['cat']"
      ],
      "metadata": {
        "colab": {
          "base_uri": "https://localhost:8080/",
          "height": 35
        },
        "id": "psoc-kCSkDCj",
        "outputId": "76492ab0-c520-4996-f4e2-592142bfd74b"
      },
      "execution_count": 20,
      "outputs": [
        {
          "output_type": "execute_result",
          "data": {
            "text/plain": [
              "'Sox'"
            ],
            "application/vnd.google.colaboratory.intrinsic+json": {
              "type": "string"
            }
          },
          "metadata": {},
          "execution_count": 20
        }
      ]
    },
    {
      "cell_type": "code",
      "source": [
        "foo = {\n",
        "    42: 'aaa',\n",
        "    2.78: 'bbb',\n",
        "    True: 'ccc'\n",
        "}\n",
        "foo"
      ],
      "metadata": {
        "colab": {
          "base_uri": "https://localhost:8080/"
        },
        "id": "Y4o6kb1mkHVQ",
        "outputId": "d75f3ac3-7ccd-45f5-ac4b-c4eadde1fd8d"
      },
      "execution_count": 21,
      "outputs": [
        {
          "output_type": "execute_result",
          "data": {
            "text/plain": [
              "{42: 'aaa', 2.78: 'bbb', True: 'ccc'}"
            ]
          },
          "metadata": {},
          "execution_count": 21
        }
      ]
    },
    {
      "cell_type": "markdown",
      "source": [
        "values and keys in a dictionary don't have tp be thesame type"
      ],
      "metadata": {
        "id": "TMze6yXukMsh"
      }
    },
    {
      "cell_type": "code",
      "source": [
        "foo[42]"
      ],
      "metadata": {
        "colab": {
          "base_uri": "https://localhost:8080/",
          "height": 35
        },
        "id": "5MjvorYskbLW",
        "outputId": "4e81ab64-8a72-4c2f-bc90-0f52040a10db"
      },
      "execution_count": 22,
      "outputs": [
        {
          "output_type": "execute_result",
          "data": {
            "text/plain": [
              "'aaa'"
            ],
            "application/vnd.google.colaboratory.intrinsic+json": {
              "type": "string"
            }
          },
          "metadata": {},
          "execution_count": 22
        }
      ]
    },
    {
      "cell_type": "code",
      "source": [
        "foo[True]"
      ],
      "metadata": {
        "colab": {
          "base_uri": "https://localhost:8080/",
          "height": 35
        },
        "id": "1rlreCVlkclT",
        "outputId": "0cecac5e-3410-4326-fed3-4d03600e2b99"
      },
      "execution_count": 23,
      "outputs": [
        {
          "output_type": "execute_result",
          "data": {
            "text/plain": [
              "'ccc'"
            ],
            "application/vnd.google.colaboratory.intrinsic+json": {
              "type": "string"
            }
          },
          "metadata": {},
          "execution_count": 23
        }
      ]
    },
    {
      "cell_type": "code",
      "source": [
        "d = {\n",
        "    int: 1,\n",
        "     float: 2,\n",
        "     bool: 3\n",
        "}\n",
        "d[float]"
      ],
      "metadata": {
        "colab": {
          "base_uri": "https://localhost:8080/"
        },
        "id": "VlwWUznHkeSW",
        "outputId": "39ff536c-ba0a-47c7-fa0b-cfe857181f7b"
      },
      "execution_count": 24,
      "outputs": [
        {
          "output_type": "execute_result",
          "data": {
            "text/plain": [
              "2"
            ]
          },
          "metadata": {},
          "execution_count": 24
        }
      ]
    },
    {
      "cell_type": "markdown",
      "source": [
        "built in types and functions can also be used as keys"
      ],
      "metadata": {
        "id": "LVQjJa45kpK2"
      }
    },
    {
      "cell_type": "code",
      "source": [
        "d = {bin: 1, hex: 2, oct: 3}\n",
        "d[bin]"
      ],
      "metadata": {
        "colab": {
          "base_uri": "https://localhost:8080/"
        },
        "id": "55h7Blank-Ab",
        "outputId": "1dfe6c63-f8a7-4e7d-9ccb-bf6ea6edfd3c"
      },
      "execution_count": 25,
      "outputs": [
        {
          "output_type": "execute_result",
          "data": {
            "text/plain": [
              "1"
            ]
          },
          "metadata": {},
          "execution_count": 25
        }
      ]
    },
    {
      "cell_type": "markdown",
      "source": [
        "A key can appear in a dictionary just once.\n",
        "Dictionary key must be an immutable type"
      ],
      "metadata": {
        "id": "0fGlSHFMlHig"
      }
    },
    {
      "cell_type": "code",
      "source": [
        "d = {\n",
        "    (1,1): 'a',\n",
        "     (1,2): 'b',\n",
        "     (2,1): 'c'\n",
        "}\n",
        "d[(1,1)]"
      ],
      "metadata": {
        "colab": {
          "base_uri": "https://localhost:8080/",
          "height": 35
        },
        "id": "UW16Vpi1lDB6",
        "outputId": "3bc80336-3177-4641-ca27-374363b8e507"
      },
      "execution_count": 26,
      "outputs": [
        {
          "output_type": "execute_result",
          "data": {
            "text/plain": [
              "'a'"
            ],
            "application/vnd.google.colaboratory.intrinsic+json": {
              "type": "string"
            }
          },
          "metadata": {},
          "execution_count": 26
        }
      ]
    },
    {
      "cell_type": "markdown",
      "source": [
        "A tuple can be a dictionary key"
      ],
      "metadata": {
        "id": "zPBlrWA5lGSA"
      }
    },
    {
      "cell_type": "code",
      "source": [
        "# Operators and built in functions\n",
        "MLB_team = {\n",
        "    'Colorado' : 'Rockies',\n",
        "    'Boston'   : 'Red Sox',\n",
        "    'Minnesota': 'Twins',\n",
        "    'Seattle'  : 'Mariners'\n",
        "}\n",
        "'Seattle' in MLB_team"
      ],
      "metadata": {
        "colab": {
          "base_uri": "https://localhost:8080/"
        },
        "id": "EonxPD6llr1l",
        "outputId": "6e496852-920c-4c73-fe0c-86825b593103"
      },
      "execution_count": 27,
      "outputs": [
        {
          "output_type": "execute_result",
          "data": {
            "text/plain": [
              "True"
            ]
          },
          "metadata": {},
          "execution_count": 27
        }
      ]
    },
    {
      "cell_type": "code",
      "source": [
        "'Toronto' in MLB_team"
      ],
      "metadata": {
        "colab": {
          "base_uri": "https://localhost:8080/"
        },
        "id": "T4TQxrAZmdrk",
        "outputId": "b7a1aacd-e649-4b10-ab25-7ae4e93a0e28"
      },
      "execution_count": 28,
      "outputs": [
        {
          "output_type": "execute_result",
          "data": {
            "text/plain": [
              "False"
            ]
          },
          "metadata": {},
          "execution_count": 28
        }
      ]
    },
    {
      "cell_type": "code",
      "source": [
        "'New York' not in MLB_team"
      ],
      "metadata": {
        "colab": {
          "base_uri": "https://localhost:8080/"
        },
        "id": "gFDCE1hvmhCb",
        "outputId": "522f2383-3b78-4624-e365-8fd6d6c70296"
      },
      "execution_count": 29,
      "outputs": [
        {
          "output_type": "execute_result",
          "data": {
            "text/plain": [
              "True"
            ]
          },
          "metadata": {},
          "execution_count": 29
        }
      ]
    },
    {
      "cell_type": "code",
      "source": [
        "len(MLB_team)"
      ],
      "metadata": {
        "colab": {
          "base_uri": "https://localhost:8080/"
        },
        "id": "_RitVvKLmnPX",
        "outputId": "99359d3c-2513-4123-9312-8bdf27d5b010"
      },
      "execution_count": 30,
      "outputs": [
        {
          "output_type": "execute_result",
          "data": {
            "text/plain": [
              "4"
            ]
          },
          "metadata": {},
          "execution_count": 30
        }
      ]
    },
    {
      "cell_type": "code",
      "source": [
        "# Dictionary Methods\n",
        "d = {'a': 10, 'b': 20, 'c': 30}\n",
        "d"
      ],
      "metadata": {
        "colab": {
          "base_uri": "https://localhost:8080/"
        },
        "id": "ZqhPvMA2ms8r",
        "outputId": "c2708493-be97-4693-c769-e2467b757de0"
      },
      "execution_count": 31,
      "outputs": [
        {
          "output_type": "execute_result",
          "data": {
            "text/plain": [
              "{'a': 10, 'b': 20, 'c': 30}"
            ]
          },
          "metadata": {},
          "execution_count": 31
        }
      ]
    },
    {
      "cell_type": "code",
      "source": [
        "d.clear()"
      ],
      "metadata": {
        "id": "iJ29dytHm32z"
      },
      "execution_count": 32,
      "outputs": []
    },
    {
      "cell_type": "code",
      "source": [
        "d"
      ],
      "metadata": {
        "colab": {
          "base_uri": "https://localhost:8080/"
        },
        "id": "VaUYu2uom7C2",
        "outputId": "9f93820c-85c8-47f9-dd4f-806421d1cbf1"
      },
      "execution_count": 33,
      "outputs": [
        {
          "output_type": "execute_result",
          "data": {
            "text/plain": [
              "{}"
            ]
          },
          "metadata": {},
          "execution_count": 33
        }
      ]
    },
    {
      "cell_type": "code",
      "source": [
        "d = {'a': 10, 'b': 20, 'c': 30}\n",
        "print(d.get('b'))"
      ],
      "metadata": {
        "colab": {
          "base_uri": "https://localhost:8080/"
        },
        "id": "VtZq0eNBm7-W",
        "outputId": "4758fbdc-ceac-4e13-8bd2-6a5e9331a617"
      },
      "execution_count": 34,
      "outputs": [
        {
          "output_type": "stream",
          "name": "stdout",
          "text": [
            "20\n"
          ]
        }
      ]
    },
    {
      "cell_type": "markdown",
      "source": [
        "gets the value of a key from  adictionary without checking ahead of time whether the key exists and without raising an error"
      ],
      "metadata": {
        "id": "DJQ7IrJVnE4b"
      }
    },
    {
      "cell_type": "code",
      "source": [
        "print(d.get('h'))"
      ],
      "metadata": {
        "colab": {
          "base_uri": "https://localhost:8080/"
        },
        "id": "vKBrqkQknDZH",
        "outputId": "952265d6-da7d-44a1-a2f7-d4e250c2d7c5"
      },
      "execution_count": 36,
      "outputs": [
        {
          "output_type": "stream",
          "name": "stdout",
          "text": [
            "None\n"
          ]
        }
      ]
    },
    {
      "cell_type": "code",
      "source": [
        "print(d.get('z', -1))"
      ],
      "metadata": {
        "colab": {
          "base_uri": "https://localhost:8080/"
        },
        "id": "2kFKjvr2nTQf",
        "outputId": "970a4b37-bf2c-4669-ff9d-6ab99f5bb598"
      },
      "execution_count": 37,
      "outputs": [
        {
          "output_type": "stream",
          "name": "stdout",
          "text": [
            "-1\n"
          ]
        }
      ]
    },
    {
      "cell_type": "markdown",
      "source": [
        "A default value could be set such that is the key is not found, it shoukd be returned"
      ],
      "metadata": {
        "id": "P-dP6IhZnfpb"
      }
    },
    {
      "cell_type": "code",
      "source": [
        "d = {'a': 10, 'b': 20, 'c': 30}\n",
        "list(d.items())"
      ],
      "metadata": {
        "colab": {
          "base_uri": "https://localhost:8080/"
        },
        "id": "BOMWx-6nnep-",
        "outputId": "d7266c62-e464-440c-a6bc-bf1c7265d980"
      },
      "execution_count": 38,
      "outputs": [
        {
          "output_type": "execute_result",
          "data": {
            "text/plain": [
              "[('a', 10), ('b', 20), ('c', 30)]"
            ]
          },
          "metadata": {},
          "execution_count": 38
        }
      ]
    },
    {
      "cell_type": "markdown",
      "source": [
        "returns a list of tuples containing the key-value pairs in a dictionary"
      ],
      "metadata": {
        "id": "RxDfGzxUnvV0"
      }
    },
    {
      "cell_type": "code",
      "source": [
        "d = {'a': 10, 'b': 20, 'c': 30}\n",
        "list(d.keys())"
      ],
      "metadata": {
        "colab": {
          "base_uri": "https://localhost:8080/"
        },
        "id": "MPIsvBMhntkU",
        "outputId": "b61a32ca-3c21-4ce9-f32a-1c678b7b54fd"
      },
      "execution_count": 39,
      "outputs": [
        {
          "output_type": "execute_result",
          "data": {
            "text/plain": [
              "['a', 'b', 'c']"
            ]
          },
          "metadata": {},
          "execution_count": 39
        }
      ]
    },
    {
      "cell_type": "code",
      "source": [
        "d = {'a': 10, 'b': 20, 'c': 30}\n",
        "list(d.values())"
      ],
      "metadata": {
        "colab": {
          "base_uri": "https://localhost:8080/"
        },
        "id": "DgUXHdlHoC_7",
        "outputId": "3454464b-d5a6-49b1-f972-7ce5bc4c2626"
      },
      "execution_count": 40,
      "outputs": [
        {
          "output_type": "execute_result",
          "data": {
            "text/plain": [
              "[10, 20, 30]"
            ]
          },
          "metadata": {},
          "execution_count": 40
        }
      ]
    },
    {
      "cell_type": "markdown",
      "source": [
        "Duplicate values are returned as many times as they occur"
      ],
      "metadata": {
        "id": "mmxppt7aoJ-8"
      }
    },
    {
      "cell_type": "code",
      "source": [
        "d = {'a': 10, 'b': 20, 'c': 30}\n",
        "d.pop('b')\n",
        "d"
      ],
      "metadata": {
        "colab": {
          "base_uri": "https://localhost:8080/"
        },
        "id": "KpbZhoneoG3_",
        "outputId": "61febeb0-a6c7-461b-beff-b543a1b0616a"
      },
      "execution_count": 41,
      "outputs": [
        {
          "output_type": "execute_result",
          "data": {
            "text/plain": [
              "{'a': 10, 'c': 30}"
            ]
          },
          "metadata": {},
          "execution_count": 41
        }
      ]
    },
    {
      "cell_type": "code",
      "source": [
        "d = {'a': 10, 'b': 20, 'c': 30}\n",
        "d.popitem()"
      ],
      "metadata": {
        "colab": {
          "base_uri": "https://localhost:8080/"
        },
        "id": "_qT_rZZ0oUva",
        "outputId": "b65a8957-ba0d-43e5-c98b-6540482246e0"
      },
      "execution_count": 42,
      "outputs": [
        {
          "output_type": "execute_result",
          "data": {
            "text/plain": [
              "('c', 30)"
            ]
          },
          "metadata": {},
          "execution_count": 42
        }
      ]
    },
    {
      "cell_type": "markdown",
      "source": [
        "removes the last key-value pair and return it as a tuple. Returns an error is the dict is empty"
      ],
      "metadata": {
        "id": "MasXAs65ocbn"
      }
    },
    {
      "cell_type": "code",
      "source": [
        "d1 = {'a': 10, 'b': 20, 'c': 30}\n",
        "d2 = {'b': 200, 'd': 400}\n",
        "d1.update(d2)\n",
        "d1"
      ],
      "metadata": {
        "colab": {
          "base_uri": "https://localhost:8080/"
        },
        "id": "9gldCm0uobqM",
        "outputId": "1f496662-739a-4129-98c3-21b66ddd035f"
      },
      "execution_count": 44,
      "outputs": [
        {
          "output_type": "execute_result",
          "data": {
            "text/plain": [
              "{'a': 10, 'b': 200, 'c': 30, 'd': 400}"
            ]
          },
          "metadata": {},
          "execution_count": 44
        }
      ]
    },
    {
      "cell_type": "markdown",
      "source": [
        "merges the entries of d2 into d1"
      ],
      "metadata": {
        "id": "KwfYzY1uo7rK"
      }
    },
    {
      "cell_type": "code",
      "source": [
        "d = {'a': 10, 'b': 20, 'c': 30}\n",
        "d.update([('b', 200), ('d', 400)])\n",
        "d"
      ],
      "metadata": {
        "colab": {
          "base_uri": "https://localhost:8080/"
        },
        "id": "o5vwqojoo32C",
        "outputId": "c8c2ae85-a7bb-49e1-97d9-684eec652b38"
      },
      "execution_count": 48,
      "outputs": [
        {
          "output_type": "execute_result",
          "data": {
            "text/plain": [
              "{'a': 10, 'b': 200, 'c': 30, 'd': 400}"
            ]
          },
          "metadata": {},
          "execution_count": 48
        }
      ]
    },
    {
      "cell_type": "code",
      "source": [
        "d = {'a': 10, 'b': 20, 'c': 30}\n",
        "d.update(b=200, d=400)\n",
        "d"
      ],
      "metadata": {
        "colab": {
          "base_uri": "https://localhost:8080/"
        },
        "id": "ih-xrdUEpP_Y",
        "outputId": "8b086ffc-f037-4abd-bf24-57833ca8c915"
      },
      "execution_count": 49,
      "outputs": [
        {
          "output_type": "execute_result",
          "data": {
            "text/plain": [
              "{'a': 10, 'b': 200, 'c': 30, 'd': 400}"
            ]
          },
          "metadata": {},
          "execution_count": 49
        }
      ]
    },
    {
      "cell_type": "code",
      "source": [],
      "metadata": {
        "id": "JwDoKF7dpmRT"
      },
      "execution_count": null,
      "outputs": []
    }
  ]
}