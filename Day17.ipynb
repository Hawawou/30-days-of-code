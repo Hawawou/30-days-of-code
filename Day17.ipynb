{
  "nbformat": 4,
  "nbformat_minor": 0,
  "metadata": {
    "colab": {
      "provenance": [],
      "collapsed_sections": [],
      "authorship_tag": "ABX9TyPDRdFU4d+2kfu9B3qahRc1",
      "include_colab_link": true
    },
    "kernelspec": {
      "name": "python3",
      "display_name": "Python 3"
    },
    "language_info": {
      "name": "python"
    }
  },
  "cells": [
    {
      "cell_type": "markdown",
      "metadata": {
        "id": "view-in-github",
        "colab_type": "text"
      },
      "source": [
        "<a href=\"https://colab.research.google.com/github/Hawawou/30-days-of-code/blob/main/Day17.ipynb\" target=\"_parent\"><img src=\"https://colab.research.google.com/assets/colab-badge.svg\" alt=\"Open In Colab\"/></a>"
      ]
    },
    {
      "cell_type": "markdown",
      "source": [
        "Regular expressions"
      ],
      "metadata": {
        "id": "TrZNZ6e3PhT_"
      }
    },
    {
      "cell_type": "code",
      "execution_count": 1,
      "metadata": {
        "id": "0SfHfK7xYEW4",
        "colab": {
          "base_uri": "https://localhost:8080/"
        },
        "outputId": "a61aa6f7-0f0c-40e8-9c93-95ffc5a1b554"
      },
      "outputs": [
        {
          "output_type": "execute_result",
          "data": {
            "text/plain": [
              "3"
            ]
          },
          "metadata": {},
          "execution_count": 1
        }
      ],
      "source": [
        "s = 'foo123bar'\n",
        "s.find('123')"
      ]
    },
    {
      "cell_type": "code",
      "source": [
        "#re.search()\n",
        "import re\n",
        "s = 'foo123bar'\n",
        "re.search('123', s)"
      ],
      "metadata": {
        "colab": {
          "base_uri": "https://localhost:8080/"
        },
        "id": "prxbDS4wP-7i",
        "outputId": "3e9c54f8-3246-40e0-d6ee-b6404247b668"
      },
      "execution_count": 2,
      "outputs": [
        {
          "output_type": "execute_result",
          "data": {
            "text/plain": [
              "<re.Match object; span=(3, 6), match='123'>"
            ]
          },
          "metadata": {},
          "execution_count": 2
        }
      ]
    },
    {
      "cell_type": "code",
      "source": [
        "if re.search('123', s):\n",
        "  print('Found a match')\n",
        "else:\n",
        "  print('No match')"
      ],
      "metadata": {
        "colab": {
          "base_uri": "https://localhost:8080/"
        },
        "id": "6yKL1-L7QBJ4",
        "outputId": "aeae6ec5-054d-4f03-a6a2-6bc709b67ccc"
      },
      "execution_count": 3,
      "outputs": [
        {
          "output_type": "stream",
          "name": "stdout",
          "text": [
            "Found a match\n"
          ]
        }
      ]
    },
    {
      "cell_type": "code",
      "source": [
        "#regex metacharacters\n",
        "s = 'foo123bar'\n",
        "re.search('[0-9][0-9][0-9]', s)"
      ],
      "metadata": {
        "colab": {
          "base_uri": "https://localhost:8080/"
        },
        "id": "561no9t8QFyt",
        "outputId": "df0d36c9-3636-466c-e1f6-0dd2c6b0d70a"
      },
      "execution_count": 4,
      "outputs": [
        {
          "output_type": "execute_result",
          "data": {
            "text/plain": [
              "<re.Match object; span=(3, 6), match='123'>"
            ]
          },
          "metadata": {},
          "execution_count": 4
        }
      ]
    },
    {
      "cell_type": "markdown",
      "source": [
        "identifies digits in a string that contains 3 consecutive digits"
      ],
      "metadata": {
        "id": "mU4VhOwLQOBE"
      }
    },
    {
      "cell_type": "code",
      "source": [
        "re.search('1.3', s)"
      ],
      "metadata": {
        "colab": {
          "base_uri": "https://localhost:8080/"
        },
        "id": "ojzEIox0QIaa",
        "outputId": "d5ba05c4-0dff-4b54-98a4-deb1308bbdc1"
      },
      "execution_count": 5,
      "outputs": [
        {
          "output_type": "execute_result",
          "data": {
            "text/plain": [
              "<re.Match object; span=(3, 6), match='123'>"
            ]
          },
          "metadata": {},
          "execution_count": 5
        }
      ]
    },
    {
      "cell_type": "markdown",
      "source": [
        "looks if s contains 1, any character then 3"
      ],
      "metadata": {
        "id": "FRZiD2RlQVNp"
      }
    },
    {
      "cell_type": "code",
      "source": [
        "import re\n",
        "re.search('ba[artz]', 'foobarqux')"
      ],
      "metadata": {
        "colab": {
          "base_uri": "https://localhost:8080/"
        },
        "id": "gCnvTb0UQTsG",
        "outputId": "513af60a-0666-499a-b4d8-e07ba47ff741"
      },
      "execution_count": 6,
      "outputs": [
        {
          "output_type": "execute_result",
          "data": {
            "text/plain": [
              "<re.Match object; span=(3, 6), match='bar'>"
            ]
          },
          "metadata": {},
          "execution_count": 6
        }
      ]
    },
    {
      "cell_type": "code",
      "source": [
        "re.search('[a-z]', 'FOObcr')"
      ],
      "metadata": {
        "colab": {
          "base_uri": "https://localhost:8080/"
        },
        "id": "QJ_Y4GzzQasH",
        "outputId": "e97d72b3-e659-4252-f48a-d33c1b4c76fd"
      },
      "execution_count": 7,
      "outputs": [
        {
          "output_type": "execute_result",
          "data": {
            "text/plain": [
              "<re.Match object; span=(3, 4), match='b'>"
            ]
          },
          "metadata": {},
          "execution_count": 7
        }
      ]
    },
    {
      "cell_type": "code",
      "source": [
        "re.search('[0-9a-fA-f]', '--- a0 ---')\n"
      ],
      "metadata": {
        "colab": {
          "base_uri": "https://localhost:8080/"
        },
        "id": "TZniVFlXQc_c",
        "outputId": "9ed47ff9-5950-4f42-ed03-2d753b4c3398"
      },
      "execution_count": 8,
      "outputs": [
        {
          "output_type": "execute_result",
          "data": {
            "text/plain": [
              "<re.Match object; span=(4, 5), match='a'>"
            ]
          },
          "metadata": {},
          "execution_count": 8
        }
      ]
    },
    {
      "cell_type": "markdown",
      "source": [
        "matches a any hexadecimal digit"
      ],
      "metadata": {
        "id": "A3OLYAlHQiw8"
      }
    },
    {
      "cell_type": "markdown",
      "source": [
        "first character that is not a digit"
      ],
      "metadata": {
        "id": "6aZ7GncMRA-j"
      }
    },
    {
      "cell_type": "code",
      "source": [
        "re.search('[^0-9]', '1234foo')"
      ],
      "metadata": {
        "colab": {
          "base_uri": "https://localhost:8080/"
        },
        "id": "BcNHt9REQfiz",
        "outputId": "8f50d0fb-9475-4e12-893a-4e7aab8e92f6"
      },
      "execution_count": 9,
      "outputs": [
        {
          "output_type": "execute_result",
          "data": {
            "text/plain": [
              "<re.Match object; span=(4, 5), match='f'>"
            ]
          },
          "metadata": {},
          "execution_count": 9
        }
      ]
    },
    {
      "cell_type": "code",
      "source": [
        "re.search('[#:^]', 'foo^bar:baz#qux')"
      ],
      "metadata": {
        "colab": {
          "base_uri": "https://localhost:8080/"
        },
        "id": "oQmIkoM_Q_hH",
        "outputId": "f92d9f95-ad7c-432a-b4d5-e9edc3f5433b"
      },
      "execution_count": 10,
      "outputs": [
        {
          "output_type": "execute_result",
          "data": {
            "text/plain": [
              "<re.Match object; span=(3, 4), match='^'>"
            ]
          },
          "metadata": {},
          "execution_count": 10
        }
      ]
    },
    {
      "cell_type": "markdown",
      "source": [
        "when ^ is not at the beginning, it has no special meaning"
      ],
      "metadata": {
        "id": "UR7-XZ9FRNtf"
      }
    },
    {
      "cell_type": "code",
      "source": [
        "re.search('[-abc]', '123-456')"
      ],
      "metadata": {
        "colab": {
          "base_uri": "https://localhost:8080/"
        },
        "id": "HmU9xFFsRHs7",
        "outputId": "9658b4df-e6e3-483c-daee-132068cfbef6"
      },
      "execution_count": 11,
      "outputs": [
        {
          "output_type": "execute_result",
          "data": {
            "text/plain": [
              "<re.Match object; span=(3, 4), match='-'>"
            ]
          },
          "metadata": {},
          "execution_count": 11
        }
      ]
    },
    {
      "cell_type": "code",
      "source": [
        "re.search('[ab\\-c]', '123-456')"
      ],
      "metadata": {
        "colab": {
          "base_uri": "https://localhost:8080/"
        },
        "id": "lI_lpFuURTlG",
        "outputId": "0f1d9dda-916a-4d4a-d0e5-62a182436fa6"
      },
      "execution_count": 12,
      "outputs": [
        {
          "output_type": "execute_result",
          "data": {
            "text/plain": [
              "<re.Match object; span=(3, 4), match='-'>"
            ]
          },
          "metadata": {},
          "execution_count": 12
        }
      ]
    },
    {
      "cell_type": "code",
      "source": [
        "re.search('[)*|]', '1234*56')"
      ],
      "metadata": {
        "colab": {
          "base_uri": "https://localhost:8080/"
        },
        "id": "_7WvwNOkRV_U",
        "outputId": "bee133cd-ba98-4783-a165-82c49ec402c5"
      },
      "execution_count": 13,
      "outputs": [
        {
          "output_type": "execute_result",
          "data": {
            "text/plain": [
              "<re.Match object; span=(4, 5), match='*'>"
            ]
          },
          "metadata": {},
          "execution_count": 13
        }
      ]
    },
    {
      "cell_type": "markdown",
      "source": [
        "other regex character loss their special meaning inside a character class"
      ],
      "metadata": {
        "id": "P8c40ioiRdQq"
      }
    },
    {
      "cell_type": "code",
      "source": [
        "re.search('foo.bar', 'fooxbar')"
      ],
      "metadata": {
        "colab": {
          "base_uri": "https://localhost:8080/"
        },
        "id": "shCT1t0jRY2v",
        "outputId": "86cffc12-513c-41c3-f1a7-c124e77a84eb"
      },
      "execution_count": 14,
      "outputs": [
        {
          "output_type": "execute_result",
          "data": {
            "text/plain": [
              "<re.Match object; span=(0, 7), match='fooxbar'>"
            ]
          },
          "metadata": {},
          "execution_count": 14
        }
      ]
    },
    {
      "cell_type": "markdown",
      "source": [
        "the character foo, any character other than a new line then bar"
      ],
      "metadata": {
        "id": "lH8RcDXTRkay"
      }
    },
    {
      "cell_type": "code",
      "source": [
        "re.search('\\w', '#(.a$@&)')"
      ],
      "metadata": {
        "colab": {
          "base_uri": "https://localhost:8080/"
        },
        "id": "ZC0XSIcoRhwZ",
        "outputId": "a9615277-feaf-48ab-c62a-25aa893b7934"
      },
      "execution_count": 15,
      "outputs": [
        {
          "output_type": "execute_result",
          "data": {
            "text/plain": [
              "<re.Match object; span=(3, 4), match='a'>"
            ]
          },
          "metadata": {},
          "execution_count": 15
        }
      ]
    },
    {
      "cell_type": "markdown",
      "source": [
        "matches any alphanumeric character. Equivalent of [a-zA-Z0-9]"
      ],
      "metadata": {
        "id": "Z_oFWj6mRuxw"
      }
    },
    {
      "cell_type": "code",
      "source": [
        "re.search('\\W', 'a_1*3Qb')"
      ],
      "metadata": {
        "colab": {
          "base_uri": "https://localhost:8080/"
        },
        "id": "vRHGM-t_Rq-6",
        "outputId": "ef7484c3-7463-4ef2-cc76-29ca8eaf65bd"
      },
      "execution_count": 16,
      "outputs": [
        {
          "output_type": "execute_result",
          "data": {
            "text/plain": [
              "<re.Match object; span=(3, 4), match='*'>"
            ]
          },
          "metadata": {},
          "execution_count": 16
        }
      ]
    },
    {
      "cell_type": "markdown",
      "source": [
        "equivalent to [^a-zA-Z0-9]"
      ],
      "metadata": {
        "id": "rKkGO0XVRy--"
      }
    },
    {
      "cell_type": "code",
      "source": [
        "re.search('\\d', 'abcd4ef')"
      ],
      "metadata": {
        "colab": {
          "base_uri": "https://localhost:8080/"
        },
        "id": "Fx4r9q4SRxi3",
        "outputId": "f913b00a-f7fc-4f5a-8a1d-ee3014047a63"
      },
      "execution_count": 17,
      "outputs": [
        {
          "output_type": "execute_result",
          "data": {
            "text/plain": [
              "<re.Match object; span=(4, 5), match='4'>"
            ]
          },
          "metadata": {},
          "execution_count": 17
        }
      ]
    },
    {
      "cell_type": "markdown",
      "source": [
        "matches decimal digits"
      ],
      "metadata": {
        "id": "l7fDhy0zR5wt"
      }
    },
    {
      "cell_type": "code",
      "source": [
        "re.search('\\D', '234Q678')"
      ],
      "metadata": {
        "colab": {
          "base_uri": "https://localhost:8080/"
        },
        "id": "DTasuZZXR4lq",
        "outputId": "116fa286-08de-4187-901f-7e416f9d642e"
      },
      "execution_count": 18,
      "outputs": [
        {
          "output_type": "execute_result",
          "data": {
            "text/plain": [
              "<re.Match object; span=(3, 4), match='Q'>"
            ]
          },
          "metadata": {},
          "execution_count": 18
        }
      ]
    },
    {
      "cell_type": "markdown",
      "source": [
        "equivalent to [^0-9]"
      ],
      "metadata": {
        "id": "wby1FPpiR_vK"
      }
    },
    {
      "cell_type": "code",
      "source": [
        "re.search('\\s', 'foo\\nbar baz')"
      ],
      "metadata": {
        "colab": {
          "base_uri": "https://localhost:8080/"
        },
        "id": "89_Kfvq8R-iM",
        "outputId": "dc6d65c9-cae9-48a7-98cf-fb634ca87862"
      },
      "execution_count": 19,
      "outputs": [
        {
          "output_type": "execute_result",
          "data": {
            "text/plain": [
              "<re.Match object; span=(3, 4), match='\\n'>"
            ]
          },
          "metadata": {},
          "execution_count": 19
        }
      ]
    },
    {
      "cell_type": "markdown",
      "source": [
        "matches a new line"
      ],
      "metadata": {
        "id": "Kq8OqGaUSEzU"
      }
    },
    {
      "cell_type": "code",
      "source": [
        "re.search('\\S', '\\n foo \\n')"
      ],
      "metadata": {
        "colab": {
          "base_uri": "https://localhost:8080/"
        },
        "id": "YGHPE4DzSEBI",
        "outputId": "f4adbc3f-cd2b-497b-ba42-62a612752ae0"
      },
      "execution_count": 20,
      "outputs": [
        {
          "output_type": "execute_result",
          "data": {
            "text/plain": [
              "<re.Match object; span=(2, 3), match='f'>"
            ]
          },
          "metadata": {},
          "execution_count": 20
        }
      ]
    },
    {
      "cell_type": "markdown",
      "source": [
        "any character that is not a whitespace"
      ],
      "metadata": {
        "id": "5D6a-jW3SKaL"
      }
    },
    {
      "cell_type": "code",
      "source": [
        "#escaping metacharacters\n",
        "re.search('\\.', 'foo.bar')"
      ],
      "metadata": {
        "colab": {
          "base_uri": "https://localhost:8080/"
        },
        "id": "669MWHo0SJIR",
        "outputId": "f5e8e922-9e33-4db6-fc39-bf47456f99f6"
      },
      "execution_count": 21,
      "outputs": [
        {
          "output_type": "execute_result",
          "data": {
            "text/plain": [
              "<re.Match object; span=(3, 4), match='.'>"
            ]
          },
          "metadata": {},
          "execution_count": 21
        }
      ]
    },
    {
      "cell_type": "markdown",
      "source": [
        "it removes the special meaning of a metacharcter"
      ],
      "metadata": {
        "id": "yzeGlT1ySRKD"
      }
    },
    {
      "cell_type": "code",
      "source": [
        "s = r'foo\\bar'\n",
        "re.search(r'\\\\', s)"
      ],
      "metadata": {
        "colab": {
          "base_uri": "https://localhost:8080/"
        },
        "id": "_xH9T2KNSQec",
        "outputId": "f6880c20-617c-4e68-931d-14ba6bc88c42"
      },
      "execution_count": 22,
      "outputs": [
        {
          "output_type": "execute_result",
          "data": {
            "text/plain": [
              "<re.Match object; span=(3, 4), match='\\\\'>"
            ]
          },
          "metadata": {},
          "execution_count": 22
        }
      ]
    },
    {
      "cell_type": "code",
      "source": [
        "re.search('\\\\\\\\', s)"
      ],
      "metadata": {
        "colab": {
          "base_uri": "https://localhost:8080/"
        },
        "id": "c2b3yjMfSYSc",
        "outputId": "79578cf8-ae09-4e69-acfc-642c96a948c9"
      },
      "execution_count": 23,
      "outputs": [
        {
          "output_type": "execute_result",
          "data": {
            "text/plain": [
              "<re.Match object; span=(3, 4), match='\\\\'>"
            ]
          },
          "metadata": {},
          "execution_count": 23
        }
      ]
    },
    {
      "cell_type": "code",
      "source": [
        "#anchors\n",
        "re.search('^foo', 'foobar')"
      ],
      "metadata": {
        "colab": {
          "base_uri": "https://localhost:8080/"
        },
        "id": "jKLI6YMKSaWJ",
        "outputId": "3a8bcfb3-3a36-4ba9-feb7-f9c5bb27b6bc"
      },
      "execution_count": 24,
      "outputs": [
        {
          "output_type": "execute_result",
          "data": {
            "text/plain": [
              "<re.Match object; span=(0, 3), match='foo'>"
            ]
          },
          "metadata": {},
          "execution_count": 24
        }
      ]
    },
    {
      "cell_type": "code",
      "source": [
        "print(re.search('^foo', 'barfoo'))"
      ],
      "metadata": {
        "colab": {
          "base_uri": "https://localhost:8080/"
        },
        "id": "ivzKyJT2SdIF",
        "outputId": "a40e6ddf-e315-4a19-e71d-3673e4cf7e21"
      },
      "execution_count": 25,
      "outputs": [
        {
          "output_type": "stream",
          "name": "stdout",
          "text": [
            "None\n"
          ]
        }
      ]
    },
    {
      "cell_type": "markdown",
      "source": [
        "the character must be at the start"
      ],
      "metadata": {
        "id": "N-SFwB4CSgah"
      }
    },
    {
      "cell_type": "code",
      "source": [
        "re.search('\\Afoo', 'foobar')"
      ],
      "metadata": {
        "colab": {
          "base_uri": "https://localhost:8080/"
        },
        "id": "h9QoYwDgSfKZ",
        "outputId": "acb793b9-02ff-4037-9392-fbe608e8cf14"
      },
      "execution_count": 26,
      "outputs": [
        {
          "output_type": "execute_result",
          "data": {
            "text/plain": [
              "<re.Match object; span=(0, 3), match='foo'>"
            ]
          },
          "metadata": {},
          "execution_count": 26
        }
      ]
    },
    {
      "cell_type": "code",
      "source": [
        "print (re.search('A\\foo', 'barfoo'))"
      ],
      "metadata": {
        "colab": {
          "base_uri": "https://localhost:8080/"
        },
        "id": "zJiZXjKxSmdb",
        "outputId": "cb219578-4b37-40eb-90d6-b6b046c5abcf"
      },
      "execution_count": 27,
      "outputs": [
        {
          "output_type": "stream",
          "name": "stdout",
          "text": [
            "None\n"
          ]
        }
      ]
    },
    {
      "cell_type": "code",
      "source": [
        "re.search('bar$', 'foobar')"
      ],
      "metadata": {
        "colab": {
          "base_uri": "https://localhost:8080/"
        },
        "id": "sLZXYTIcSo30",
        "outputId": "4ca1f933-1710-447a-b8dd-11712a2e530d"
      },
      "execution_count": 28,
      "outputs": [
        {
          "output_type": "execute_result",
          "data": {
            "text/plain": [
              "<re.Match object; span=(3, 6), match='bar'>"
            ]
          },
          "metadata": {},
          "execution_count": 28
        }
      ]
    },
    {
      "cell_type": "markdown",
      "source": [
        "charcter must be at the end of the string"
      ],
      "metadata": {
        "id": "H0ZJNObXSshy"
      }
    },
    {
      "cell_type": "code",
      "source": [
        "re.search('bar\\Z', 'foobar')"
      ],
      "metadata": {
        "colab": {
          "base_uri": "https://localhost:8080/"
        },
        "id": "0HjBBx-eSrkF",
        "outputId": "a7d4b872-6c62-494a-9cc6-b8bb397a92c0"
      },
      "execution_count": 29,
      "outputs": [
        {
          "output_type": "execute_result",
          "data": {
            "text/plain": [
              "<re.Match object; span=(3, 6), match='bar'>"
            ]
          },
          "metadata": {},
          "execution_count": 29
        }
      ]
    },
    {
      "cell_type": "code",
      "source": [
        "#also matches just before a single new line\n",
        "re.search('bar$', 'foobar\\n')"
      ],
      "metadata": {
        "colab": {
          "base_uri": "https://localhost:8080/"
        },
        "id": "vEEI2USRSyqr",
        "outputId": "80b86b67-95bf-4387-b0c2-8cb453088a46"
      },
      "execution_count": 30,
      "outputs": [
        {
          "output_type": "execute_result",
          "data": {
            "text/plain": [
              "<re.Match object; span=(3, 6), match='bar'>"
            ]
          },
          "metadata": {},
          "execution_count": 30
        }
      ]
    },
    {
      "cell_type": "code",
      "source": [
        "re.search(r'\\bbar', 'foo bar')"
      ],
      "metadata": {
        "colab": {
          "base_uri": "https://localhost:8080/"
        },
        "id": "D3XU_z_wS0eZ",
        "outputId": "b90e972f-39c9-4375-8d67-510ab73b3542"
      },
      "execution_count": 31,
      "outputs": [
        {
          "output_type": "execute_result",
          "data": {
            "text/plain": [
              "<re.Match object; span=(4, 7), match='bar'>"
            ]
          },
          "metadata": {},
          "execution_count": 31
        }
      ]
    },
    {
      "cell_type": "code",
      "source": [
        "re.search(r'\\bbar', 'foo.bar')"
      ],
      "metadata": {
        "colab": {
          "base_uri": "https://localhost:8080/"
        },
        "id": "GHxH69WDS2WK",
        "outputId": "76b4bb25-6f2e-4f7f-e87c-e90e9551cdb3"
      },
      "execution_count": 32,
      "outputs": [
        {
          "output_type": "execute_result",
          "data": {
            "text/plain": [
              "<re.Match object; span=(4, 7), match='bar'>"
            ]
          },
          "metadata": {},
          "execution_count": 32
        }
      ]
    },
    {
      "cell_type": "code",
      "source": [
        "print(re.search(r'\\bbar', 'foobar'))"
      ],
      "metadata": {
        "colab": {
          "base_uri": "https://localhost:8080/"
        },
        "id": "l7QFxNHmS4Gv",
        "outputId": "695cc60d-07de-45d2-e2aa-2fad1a339476"
      },
      "execution_count": 33,
      "outputs": [
        {
          "output_type": "stream",
          "name": "stdout",
          "text": [
            "None\n"
          ]
        }
      ]
    },
    {
      "cell_type": "markdown",
      "source": [
        "Quantifiers"
      ],
      "metadata": {
        "id": "GRhng2OrTONs"
      }
    },
    {
      "cell_type": "code",
      "source": [
        "#quantifiers\n",
        "re.search('foo-*bar', 'foobar')"
      ],
      "metadata": {
        "colab": {
          "base_uri": "https://localhost:8080/"
        },
        "id": "xtAbw2KpS51y",
        "outputId": "5deb7c2f-061d-40fb-b553-e557ace7d024"
      },
      "execution_count": 34,
      "outputs": [
        {
          "output_type": "execute_result",
          "data": {
            "text/plain": [
              "<re.Match object; span=(0, 6), match='foobar'>"
            ]
          },
          "metadata": {},
          "execution_count": 34
        }
      ]
    },
    {
      "cell_type": "code",
      "source": [
        "re.search('foo-*bar', 'foo--bar')"
      ],
      "metadata": {
        "colab": {
          "base_uri": "https://localhost:8080/"
        },
        "id": "XpOGK5_4TAs8",
        "outputId": "52ce10b6-df0c-4cb9-af11-4662e5cc1ea7"
      },
      "execution_count": 35,
      "outputs": [
        {
          "output_type": "execute_result",
          "data": {
            "text/plain": [
              "<re.Match object; span=(0, 8), match='foo--bar'>"
            ]
          },
          "metadata": {},
          "execution_count": 35
        }
      ]
    },
    {
      "cell_type": "code",
      "source": [
        "re.search('foo-+bar', 'foo-bar')"
      ],
      "metadata": {
        "colab": {
          "base_uri": "https://localhost:8080/"
        },
        "id": "XH3VBLEnTC23",
        "outputId": "ccf6ae87-327f-447c-bedf-2e993513b3f8"
      },
      "execution_count": 36,
      "outputs": [
        {
          "output_type": "execute_result",
          "data": {
            "text/plain": [
              "<re.Match object; span=(0, 7), match='foo-bar'>"
            ]
          },
          "metadata": {},
          "execution_count": 36
        }
      ]
    },
    {
      "cell_type": "code",
      "source": [
        "print(re.search('foo-+bar', 'foobar'))"
      ],
      "metadata": {
        "colab": {
          "base_uri": "https://localhost:8080/"
        },
        "id": "C68FuTiRTFcC",
        "outputId": "5f4330e6-b015-411c-ea6b-648e25d6e6d1"
      },
      "execution_count": 37,
      "outputs": [
        {
          "output_type": "stream",
          "name": "stdout",
          "text": [
            "None\n"
          ]
        }
      ]
    },
    {
      "cell_type": "markdown",
      "source": [
        "requires atleast one ocurence of -"
      ],
      "metadata": {
        "id": "cQEuQWGoTJb9"
      }
    },
    {
      "cell_type": "code",
      "source": [
        "re.search('foo-?bar', 'foobar')"
      ],
      "metadata": {
        "colab": {
          "base_uri": "https://localhost:8080/"
        },
        "id": "Bw5LVLhHTITg",
        "outputId": "15ed994c-67ce-45c9-bb7c-c666656be1eb"
      },
      "execution_count": 38,
      "outputs": [
        {
          "output_type": "execute_result",
          "data": {
            "text/plain": [
              "<re.Match object; span=(0, 6), match='foobar'>"
            ]
          },
          "metadata": {},
          "execution_count": 38
        }
      ]
    },
    {
      "cell_type": "markdown",
      "source": [
        "there's a match iff the preceding regex occur once or not at all"
      ],
      "metadata": {
        "id": "VfuvdyLRTWos"
      }
    },
    {
      "cell_type": "code",
      "source": [
        "re.match('foo[1-9]*bar', 'foobar')"
      ],
      "metadata": {
        "colab": {
          "base_uri": "https://localhost:8080/"
        },
        "id": "yiRwtStgTUpa",
        "outputId": "7c066b0b-bf42-4e1d-fd70-ce25ac567403"
      },
      "execution_count": 39,
      "outputs": [
        {
          "output_type": "execute_result",
          "data": {
            "text/plain": [
              "<re.Match object; span=(0, 6), match='foobar'>"
            ]
          },
          "metadata": {},
          "execution_count": 39
        }
      ]
    },
    {
      "cell_type": "code",
      "source": [
        "re.search('<.*>', '%<foo> <bar> <bas>%')"
      ],
      "metadata": {
        "colab": {
          "base_uri": "https://localhost:8080/"
        },
        "id": "5hp1YyDxTZJq",
        "outputId": "2bf84cca-482a-4632-e617-33d8a3b79028"
      },
      "execution_count": 40,
      "outputs": [
        {
          "output_type": "execute_result",
          "data": {
            "text/plain": [
              "<re.Match object; span=(1, 18), match='<foo> <bar> <bas>'>"
            ]
          },
          "metadata": {},
          "execution_count": 40
        }
      ]
    },
    {
      "cell_type": "markdown",
      "source": [
        " * * dictates the longest possible match here"
      ],
      "metadata": {
        "id": "ol1SMEFLTduM"
      }
    },
    {
      "cell_type": "code",
      "source": [
        "re.search('<.*?>', '%<foo> <bar>')"
      ],
      "metadata": {
        "colab": {
          "base_uri": "https://localhost:8080/"
        },
        "id": "lQuBzpEXTc9m",
        "outputId": "ce5c3506-fd83-4b8f-b789-8399ef9329fe"
      },
      "execution_count": 41,
      "outputs": [
        {
          "output_type": "execute_result",
          "data": {
            "text/plain": [
              "<re.Match object; span=(1, 6), match='<foo>'>"
            ]
          },
          "metadata": {},
          "execution_count": 41
        }
      ]
    },
    {
      "cell_type": "markdown",
      "source": [
        "the shortest match"
      ],
      "metadata": {
        "id": "24Q70mpBTl6o"
      }
    },
    {
      "cell_type": "code",
      "source": [
        "#lazy versions of + and ?\n",
        "re.search('<.+>', '%<foo> <bar>')"
      ],
      "metadata": {
        "colab": {
          "base_uri": "https://localhost:8080/"
        },
        "id": "MMTluuABTlIS",
        "outputId": "29c49af7-e283-421d-87cb-ba4df860496a"
      },
      "execution_count": 42,
      "outputs": [
        {
          "output_type": "execute_result",
          "data": {
            "text/plain": [
              "<re.Match object; span=(1, 12), match='<foo> <bar>'>"
            ]
          },
          "metadata": {},
          "execution_count": 42
        }
      ]
    },
    {
      "cell_type": "code",
      "source": [
        "print(re.search('x-{3}x', 'x--x'))"
      ],
      "metadata": {
        "colab": {
          "base_uri": "https://localhost:8080/"
        },
        "id": "4vEWgWC3Tq5B",
        "outputId": "54b75341-3cec-4575-9d9e-4beb37382841"
      },
      "execution_count": 43,
      "outputs": [
        {
          "output_type": "stream",
          "name": "stdout",
          "text": [
            "None\n"
          ]
        }
      ]
    },
    {
      "cell_type": "code",
      "source": [
        "for i in range(1,6):\n",
        "  s = f\"x{'-' * i}x\"\n",
        "  print(f'{i} {s:10}', re.search('x-{2,4}x', s))"
      ],
      "metadata": {
        "colab": {
          "base_uri": "https://localhost:8080/"
        },
        "id": "_z8c_kg6TspP",
        "outputId": "989bf65a-0291-4d5f-8b6e-e1b592d84ef4"
      },
      "execution_count": 44,
      "outputs": [
        {
          "output_type": "stream",
          "name": "stdout",
          "text": [
            "1 x-x        None\n",
            "2 x--x       <re.Match object; span=(0, 4), match='x--x'>\n",
            "3 x---x      <re.Match object; span=(0, 5), match='x---x'>\n",
            "4 x----x     <re.Match object; span=(0, 6), match='x----x'>\n",
            "5 x-----x    None\n"
          ]
        }
      ]
    },
    {
      "cell_type": "code",
      "source": [
        "#lazy version\n",
        "re.search('a{3,5}', 'aaaaaaaa')"
      ],
      "metadata": {
        "colab": {
          "base_uri": "https://localhost:8080/"
        },
        "id": "A0FHDfvaTw7U",
        "outputId": "96481c8e-7e11-4751-f734-727d79c3c83b"
      },
      "execution_count": 45,
      "outputs": [
        {
          "output_type": "execute_result",
          "data": {
            "text/plain": [
              "<re.Match object; span=(0, 5), match='aaaaa'>"
            ]
          },
          "metadata": {},
          "execution_count": 45
        }
      ]
    },
    {
      "cell_type": "code",
      "source": [
        "re.search('(bar)+', 'foo bar baz')\n",
        "re.search('(bar)+', 'foo barbar baz')\n",
        "re.search('(bar)+', 'foo barbarbar baz')"
      ],
      "metadata": {
        "id": "mWx7WA0XT0Hf"
      },
      "execution_count": null,
      "outputs": []
    },
    {
      "cell_type": "code",
      "source": [
        "re.search('(foo(bar)?)+(\\d\\d\\d)?', 'foofoobar')"
      ],
      "metadata": {
        "id": "9iAW3dDIT2IC"
      },
      "execution_count": null,
      "outputs": []
    },
    {
      "cell_type": "markdown",
      "source": [
        "nesting group of paranthesis"
      ],
      "metadata": {
        "id": "mN3YOKS4T7qc"
      }
    },
    {
      "cell_type": "code",
      "source": [
        "#capturing groups \n",
        "m = re.search('(\\w+),(\\w+),(\\w+)', 'foo,quux,baz')\n",
        "m.groups()"
      ],
      "metadata": {
        "colab": {
          "base_uri": "https://localhost:8080/"
        },
        "id": "Hpnw1NiFT5F0",
        "outputId": "4357be21-b367-4890-c5b3-dee2f751c61f"
      },
      "execution_count": 47,
      "outputs": [
        {
          "output_type": "execute_result",
          "data": {
            "text/plain": [
              "('foo', 'quux', 'baz')"
            ]
          },
          "metadata": {},
          "execution_count": 47
        }
      ]
    },
    {
      "cell_type": "code",
      "source": [
        "m.group(2)"
      ],
      "metadata": {
        "colab": {
          "base_uri": "https://localhost:8080/",
          "height": 35
        },
        "id": "S3dsQ-jdUEER",
        "outputId": "7d7d7f26-de00-408a-bf52-2599981286a1"
      },
      "execution_count": 48,
      "outputs": [
        {
          "output_type": "execute_result",
          "data": {
            "text/plain": [
              "'quux'"
            ],
            "application/vnd.google.colaboratory.intrinsic+json": {
              "type": "string"
            }
          },
          "metadata": {},
          "execution_count": 48
        }
      ]
    },
    {
      "cell_type": "code",
      "source": [
        "m.group(0)"
      ],
      "metadata": {
        "colab": {
          "base_uri": "https://localhost:8080/",
          "height": 35
        },
        "id": "eHu_AyUOUILi",
        "outputId": "ae19a902-fbd8-40ad-895b-dc6f438d63bd"
      },
      "execution_count": 49,
      "outputs": [
        {
          "output_type": "execute_result",
          "data": {
            "text/plain": [
              "'foo,quux,baz'"
            ],
            "application/vnd.google.colaboratory.intrinsic+json": {
              "type": "string"
            }
          },
          "metadata": {},
          "execution_count": 49
        }
      ]
    },
    {
      "cell_type": "code",
      "source": [
        "m.group(2,3)"
      ],
      "metadata": {
        "colab": {
          "base_uri": "https://localhost:8080/"
        },
        "id": "PG9fOyS1UKIE",
        "outputId": "31baa838-75f1-42fd-d421-a0a13af21587"
      },
      "execution_count": 50,
      "outputs": [
        {
          "output_type": "execute_result",
          "data": {
            "text/plain": [
              "('quux', 'baz')"
            ]
          },
          "metadata": {},
          "execution_count": 50
        }
      ]
    },
    {
      "cell_type": "code",
      "source": [
        "regex = r'(\\w+),\\1'\n",
        "m = re.search(regex, 'foo,foo')\n",
        "m"
      ],
      "metadata": {
        "colab": {
          "base_uri": "https://localhost:8080/"
        },
        "id": "WFcP6QI1UMjn",
        "outputId": "c3fc7d46-9813-452c-d919-a094c7cc0fd1"
      },
      "execution_count": 51,
      "outputs": [
        {
          "output_type": "execute_result",
          "data": {
            "text/plain": [
              "<re.Match object; span=(0, 7), match='foo,foo'>"
            ]
          },
          "metadata": {},
          "execution_count": 51
        }
      ]
    },
    {
      "cell_type": "code",
      "source": [
        "m.group(1)"
      ],
      "metadata": {
        "colab": {
          "base_uri": "https://localhost:8080/",
          "height": 35
        },
        "id": "00AtcaZVUONK",
        "outputId": "e257b7de-5ab8-44d9-a594-605a73fcde5d"
      },
      "execution_count": 52,
      "outputs": [
        {
          "output_type": "execute_result",
          "data": {
            "text/plain": [
              "'foo'"
            ],
            "application/vnd.google.colaboratory.intrinsic+json": {
              "type": "string"
            }
          },
          "metadata": {},
          "execution_count": 52
        }
      ]
    },
    {
      "cell_type": "code",
      "source": [
        "m = re.search('(?P<w1>\\w+),(?P<w2>\\w+),(?P<w3>\\w+)', 'foo,quux,baz')\n",
        "m.groups()"
      ],
      "metadata": {
        "colab": {
          "base_uri": "https://localhost:8080/"
        },
        "id": "HxqgNH9EURE7",
        "outputId": "5f8cdc75-2fe4-4916-a3a2-a5b7937dc526"
      },
      "execution_count": 53,
      "outputs": [
        {
          "output_type": "execute_result",
          "data": {
            "text/plain": [
              "('foo', 'quux', 'baz')"
            ]
          },
          "metadata": {},
          "execution_count": 53
        }
      ]
    },
    {
      "cell_type": "code",
      "source": [
        "m.group('w1')"
      ],
      "metadata": {
        "colab": {
          "base_uri": "https://localhost:8080/",
          "height": 35
        },
        "id": "6uwnug_qUTVX",
        "outputId": "bfd0093a-649b-42a8-94b7-7c7b2466902d"
      },
      "execution_count": 54,
      "outputs": [
        {
          "output_type": "execute_result",
          "data": {
            "text/plain": [
              "'foo'"
            ],
            "application/vnd.google.colaboratory.intrinsic+json": {
              "type": "string"
            }
          },
          "metadata": {},
          "execution_count": 54
        }
      ]
    },
    {
      "cell_type": "code",
      "source": [
        "m.group(1)"
      ],
      "metadata": {
        "colab": {
          "base_uri": "https://localhost:8080/",
          "height": 35
        },
        "id": "ZpEiopiKUVf2",
        "outputId": "065b71ac-2dab-4e0f-e18a-ecbdfb451e6f"
      },
      "execution_count": 55,
      "outputs": [
        {
          "output_type": "execute_result",
          "data": {
            "text/plain": [
              "'foo'"
            ],
            "application/vnd.google.colaboratory.intrinsic+json": {
              "type": "string"
            }
          },
          "metadata": {},
          "execution_count": 55
        }
      ]
    },
    {
      "cell_type": "code",
      "source": [
        "m = re.search(r'(?P<word>\\w+),(?P=word)', 'foo,foo')\n",
        "m.group('word')"
      ],
      "metadata": {
        "colab": {
          "base_uri": "https://localhost:8080/",
          "height": 35
        },
        "id": "QYlH3pTAUXQ9",
        "outputId": "9cc2c08b-94b5-45f1-eea0-6588842890d6"
      },
      "execution_count": 56,
      "outputs": [
        {
          "output_type": "execute_result",
          "data": {
            "text/plain": [
              "'foo'"
            ],
            "application/vnd.google.colaboratory.intrinsic+json": {
              "type": "string"
            }
          },
          "metadata": {},
          "execution_count": 56
        }
      ]
    },
    {
      "cell_type": "code",
      "source": [
        "#conditional matches\n",
        "regex = r'^(###)?foo(?(1)bar|baz)'\n",
        "re.search(regex, '###foobar')"
      ],
      "metadata": {
        "colab": {
          "base_uri": "https://localhost:8080/"
        },
        "id": "J1-0jvhfUZdq",
        "outputId": "12404cdb-f39f-4ee0-decc-cea4ddec93ed"
      },
      "execution_count": 57,
      "outputs": [
        {
          "output_type": "execute_result",
          "data": {
            "text/plain": [
              "<re.Match object; span=(0, 9), match='###foobar'>"
            ]
          },
          "metadata": {},
          "execution_count": 57
        }
      ]
    },
    {
      "cell_type": "code",
      "source": [],
      "metadata": {
        "id": "h_yvooM7UbOx"
      },
      "execution_count": null,
      "outputs": []
    }
  ]
}